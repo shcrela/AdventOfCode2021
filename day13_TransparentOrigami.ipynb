{
 "cells": [
  {
   "cell_type": "code",
   "execution_count": 1,
   "id": "1193e8b6-0d78-47f3-8b37-7652b3e627d9",
   "metadata": {},
   "outputs": [],
   "source": [
    "%matplotlib inline\n",
    "import numpy as np\n",
    "import matplotlib.pyplot as plt\n",
    "\n",
    "\n",
    "def part1(folding_line, paper):\n",
    "    y, x = folding_line\n",
    "    if y > 0:\n",
    "        first_fold = np.logical_or(paper[:y, :], np.flipud(paper[y+1:, :]))\n",
    "    if x > 0:\n",
    "        first_fold = np.logical_or(paper[:, :x], np.fliplr(paper[:, x+1:]))\n",
    "    count = np.count_nonzero(first_fold)\n",
    "    print(f\"There are {count} dots visible after the first folding.\")\n",
    "\n",
    "def part2(folding_lines, paper):\n",
    "    for y, x in folding_lines:\n",
    "        if y > 0:\n",
    "            paper = np.logical_or(paper[:y, :], np.flipud(paper[y+1:, :]))\n",
    "        if x > 0:\n",
    "            paper = np.logical_or(paper[:, :x], np.fliplr(paper[:, x+1:]))\n",
    "    plt.figure()\n",
    "    plt.imshow(paper)\n",
    "    plt.show()\n",
    "\n",
    "filename = \"./data/day13a.txt\"\n",
    "with open(filename, 'r') as ff:\n",
    "    data = ff.read().strip().split('\\n')\n",
    "\n",
    "ind = data.index('') # blank line in the input\n",
    "\n",
    "rows = []\n",
    "cols = []\n",
    "for pair in data[:ind]:\n",
    "    a, b = pair.split(',')\n",
    "    rows.append(int(b))\n",
    "    cols.append(int(a))\n",
    "\n",
    "folding_lines =  []\n",
    "\n",
    "for sentence in data[ind+1:]:\n",
    "    donde = sentence.split(\" \")[-1]\n",
    "    rc, n = donde.split(\"=\")\n",
    "    if rc == \"y\":\n",
    "        donde_ind = (int(n), 0)\n",
    "    elif rc == \"x\":\n",
    "        donde_ind = (0, int(n))\n",
    "    folding_lines.append(donde_ind)\n",
    "folding_lines = np.array(folding_lines)\n",
    "\n",
    "# Create paper:\n",
    "sizey = folding_lines[np.where(folding_lines[:,1]==0)[0][0]][0] # First appearance of a zero at x\n",
    "sizex = folding_lines[np.where(folding_lines[:,0]==0)[0][0]][1] # First appearance of a zero at y\n",
    "paper = np.zeros((2*sizey+1, 2*sizex+1), dtype=bool)\n",
    "paper[rows, cols] = True"
   ]
  },
  {
   "cell_type": "code",
   "execution_count": 2,
   "id": "f09d1aa3-3cb7-4653-810a-cfd912b0d5d6",
   "metadata": {},
   "outputs": [
    {
     "name": "stdout",
     "output_type": "stream",
     "text": [
      "There are 693 dots visible after the first folding.\n"
     ]
    }
   ],
   "source": [
    "part1(folding_lines[0], paper)\n"
   ]
  },
  {
   "cell_type": "code",
   "execution_count": 3,
   "id": "bde169b5-0076-4294-904c-af49fbfe6e86",
   "metadata": {},
   "outputs": [
    {
     "data": {
      "image/png": "[encoded data removed]",
      "text/plain": [
       "<Figure size 432x288 with 1 Axes>"
      ]
     },
     "metadata": {
      "needs_background": "light"
     },
     "output_type": "display_data"
    }
   ],
   "source": [
    "part2(folding_lines, paper)"
   ]
  }
 ],
 "metadata": {
  "kernelspec": {
   "display_name": "Python 3",
   "language": "python",
   "name": "python3"
  },
  "language_info": {
   "codemirror_mode": {
    "name": "ipython",
    "version": 3
   },
   "file_extension": ".py",
   "mimetype": "text/x-python",
   "name": "python",
   "nbconvert_exporter": "python",
   "pygments_lexer": "ipython3",
   "version": "3.8.8"
  }
 },
 "nbformat": 4,
 "nbformat_minor": 5
}
