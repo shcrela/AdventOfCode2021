{
 "cells": [
  {
   "cell_type": "markdown",
   "id": "f9c1fb6d-d193-4c46-bc42-57eb45047bff",
   "metadata": {},
   "source": [
    "# --- Day 1: Sonar Sweep ---\n",
    "\n",
    "As the submarine drops below the surface of the ocean, it automatically performs a sonar sweep of the nearby sea floor. On a small screen, the sonar sweep report (your puzzle input) appears: each line is a measurement of the sea floor depth as the sweep looks further and further away from the submarine.\n",
    "\n",
    "For example, suppose you had the following report:\n",
    "```\n",
    "199\n",
    "200\n",
    "208\n",
    "210\n",
    "200\n",
    "207\n",
    "240\n",
    "269\n",
    "260\n",
    "263\n",
    "```\n",
    "This report indicates that, scanning outward from the submarine, the sonar sweep found depths of 199, 200, 208, 210, and so on.\n",
    "\n",
    "The first order of business is to figure out how quickly the depth increases, just so you know what you're dealing with - you never know if the keys will get carried into deeper water by an ocean current or a fish or something.\n",
    "\n",
    "To do this, count the number of times a depth measurement increases from the previous measurement. (There is no measurement before the first measurement.) In the example above, the changes are as follows:\n",
    "```\n",
    "199 (N/A - no previous measurement)\n",
    "200 (increased)\n",
    "208 (increased)\n",
    "210 (increased)\n",
    "200 (decreased)\n",
    "207 (increased)\n",
    "240 (increased)\n",
    "269 (increased)\n",
    "260 (decreased)\n",
    "263 (increased)\n",
    "```\n",
    "In this example, there are 7 measurements that are larger than the previous measurement.\n",
    "\n",
    "**How many measurements are larger than the previous measurement?**"
   ]
  },
  {
   "cell_type": "code",
   "execution_count": 43,
   "id": "51c14842-688c-45cf-8715-310b7cbf437d",
   "metadata": {},
   "outputs": [],
   "source": [
    "%matplotlib inline\n",
    "import numpy as np\n",
    "import matplotlib.pyplot as plt\n",
    "\n",
    "def show_depth(depths, title=\"Sonar sweep\", ylabel=\"depth\"):\n",
    "    plt.figure()\n",
    "    plt.plot(-depths, lw=1, c='k')\n",
    "    plt.fill_between(range(len(depths)), -depths,\n",
    "                     -np.max(depths),\n",
    "                     fc='darkolivegreen', hatch='///')\n",
    "    plt.fill_between(range(len(depths)), -depths, 0,\n",
    "                     color='dodgerblue', alpha=.6)\n",
    "    plt.ylabel(ylabel)\n",
    "    plt.xlabel(\"distance from the submarine\")\n",
    "    plt.suptitle(title)\n",
    "    plt.show();"
   ]
  },
  {
   "cell_type": "code",
   "execution_count": 44,
   "id": "15e91a3a-8b9c-423c-8ede-777c471052df",
   "metadata": {},
   "outputs": [],
   "source": [
    "scanned_depths = np.loadtxt(\"data/day01a.txt\")\n",
    "\n",
    "show_depth(scanned_depths)"
   ]
  },
  {
   "cell_type": "code",
   "execution_count": 4,
   "id": "4dff41ce-b006-4ada-be29-3f064cfbfcf0",
   "metadata": {},
   "outputs": [
    {
     "name": "stdout",
     "output_type": "stream",
     "text": [
      "There are 1154 measurements larger than the one preceding it.\n"
     ]
    }
   ],
   "source": [
    "changes = np.diff(scanned_depths, prepend=np.nan)\n",
    "\n",
    "n_increases = np.count_nonzero(changes>0)\n",
    "print(f\"There are {n_increases} measurements larger than the one preceding it.\")"
   ]
  },
  {
   "cell_type": "markdown",
   "id": "17d4de3e-eb16-42d5-bcca-191a48684776",
   "metadata": {},
   "source": [
    "## --- Part Two ---\n",
    "Considering every single measurement isn't as useful as you expected: there's just too much noise in the data.\n",
    "\n",
    "Instead, consider sums of a three-measurement sliding window. Again considering the above example:\n",
    "```\n",
    "199  A      \n",
    "200  A B    \n",
    "208  A B C  \n",
    "210    B C D\n",
    "200  E   C D\n",
    "207  E F   D\n",
    "240  E F G  \n",
    "269    F G H\n",
    "260      G H\n",
    "263        H\n",
    "```\n",
    "Start by comparing the first and second three-measurement windows. The measurements in the first window are marked A (199, 200, 208); their sum is 199 + 200 + 208 = 607. The second window is marked B (200, 208, 210); its sum is 618. The sum of measurements in the second window is larger than the sum of the first, so this first comparison increased.\n",
    "\n",
    "Your goal now is to count the number of times the sum of measurements in this sliding window increases from the previous sum. So, compare A with B, then compare B with C, then C with D, and so on. Stop when there aren't enough measurements left to create a new three-measurement sum.\n",
    "\n",
    "In the above example, the sum of each three-measurement window is as follows:\n",
    "```\n",
    "A: 607 (N/A - no previous sum)\n",
    "B: 618 (increased)\n",
    "C: 618 (no change)\n",
    "D: 617 (decreased)\n",
    "E: 647 (increased)\n",
    "F: 716 (increased)\n",
    "G: 769 (increased)\n",
    "H: 792 (increased)\n",
    "```\n",
    "In this example, there are 5 sums that are larger than the previous sum.\n",
    "\n",
    "Consider sums of a three-measurement sliding window. **How many sums are larger than the previous sum?**"
   ]
  },
  {
   "cell_type": "code",
   "execution_count": 5,
   "id": "ded22045-204c-4f1d-8077-6bc5bc57ad88",
   "metadata": {},
   "outputs": [],
   "source": [
    "three_depths = np.convolve(scanned_depths, [1, 1, 1], mode='valid')\n",
    "\n",
    "show_depth(three_depths)"
   ]
  },
  {
   "cell_type": "code",
   "execution_count": 36,
   "id": "14d21aa0-23c2-40b9-8564-6b35f359f6ec",
   "metadata": {
    "tags": []
   },
   "outputs": [
    {
     "data": {
      "image/png": "[encoded data removed]",
      "text/plain": [
       "<Figure size 432x288 with 1 Axes>"
      ]
     },
     "metadata": {
      "needs_background": "light"
     },
     "output_type": "display_data"
    }
   ],
   "source": [
    "plt.figure()\n",
    "plt.plot(-three_depths/3, lw=5, alpha=0.5, label=\"3-mean\") # mean of three\n",
    "plt.plot(-scanned_depths, lw=1, c='k', label=\"measured\")\n",
    "plt.legend()\n",
    "plt.suptitle(\"actual vs 3-window mean\")\n",
    "plt.show();"
   ]
  },
  {
   "cell_type": "code",
   "execution_count": 8,
   "id": "c8e83de8-0cf0-4c3f-b5b4-5b61376386d6",
   "metadata": {},
   "outputs": [
    {
     "name": "stdout",
     "output_type": "stream",
     "text": [
      "There are 1127 measurements larger than the one preceding it.\n"
     ]
    }
   ],
   "source": [
    "three_changes = np.diff(three_depths, prepend=np.nan)\n",
    "\n",
    "n_3increases = np.count_nonzero(three_changes>0)\n",
    "print(f\"There are {n_3increases} measurements larger than the one preceding it.\")"
   ]
  }
 ],
 "metadata": {
  "kernelspec": {
   "display_name": "Python 3",
   "language": "python",
   "name": "python3"
  },
  "language_info": {
   "codemirror_mode": {
    "name": "ipython",
    "version": 3
   },
   "file_extension": ".py",
   "mimetype": "text/x-python",
   "name": "python",
   "nbconvert_exporter": "python",
   "pygments_lexer": "ipython3",
   "version": "3.8.8"
  }
 },
 "nbformat": 4,
 "nbformat_minor": 5
}
