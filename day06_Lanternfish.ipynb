{
 "cells": [
  {
   "cell_type": "code",
   "execution_count": 1,
   "id": "3d426045-6ad7-4047-b801-668d20e750a2",
   "metadata": {},
   "outputs": [],
   "source": [
    "from collections import deque\n",
    "import numpy as np\n"
   ]
  },
  {
   "cell_type": "code",
   "execution_count": 2,
   "id": "21a84559-7be1-4c6a-b2fa-ab3a661bc28d",
   "metadata": {},
   "outputs": [],
   "source": [
    "# starting_shoal = [3,4,3,1,2]\n",
    "starting_shoal = np.loadtxt('data/day06a.txt', delimiter=',', dtype=int)"
   ]
  },
  {
   "cell_type": "markdown",
   "id": "289f0d48-6f37-4710-9f75-71c980f97287",
   "metadata": {},
   "source": [
    "The idea here is to create a rotating deque for each fish, where the first element will be showing the actual value representing the fish.\n",
    "So each passing day just rotates the deck."
   ]
  },
  {
   "cell_type": "code",
   "execution_count": 3,
   "id": "8a55bf21-9c6b-4b8d-8771-f7eea790eeb3",
   "metadata": {},
   "outputs": [],
   "source": [
    "# Starting shoal would then be: (without any births for the moment)\n",
    "shoal = []\n",
    "fish_count = []\n",
    "for fish in starting_shoal:\n",
    "    dd = deque(range(6, -1, -1))\n",
    "    dd.rotate(fish+1)\n",
    "    ddd = dd.copy()\n",
    "    shoal.append(ddd)"
   ]
  },
  {
   "cell_type": "code",
   "execution_count": 4,
   "id": "4d306865-05a5-441e-b6ea-6b81d56abf5e",
   "metadata": {},
   "outputs": [],
   "source": [
    "# n_days = 18\n",
    "n_days = 80\n",
    "for day in range(n_days):\n",
    "    for i,fish in enumerate(shoal):\n",
    "        fish.rotate(-1) # another day goes by\n",
    "        if fish[0] == 0:\n",
    "            # When the counter gets to zero,\n",
    "            # even the young fish becomes an adult fish,\n",
    "            # starts respecting the 7-day cycle\n",
    "            porodilja = deque(range(6, -1, -1))\n",
    "            porodilja.rotate(1)\n",
    "            shoal[i] = porodilja\n",
    "    # If there were any fish with the zeroes yesterday:\n",
    "    for baby_fish in [1 for fish in shoal if fish[-1]==0]:\n",
    "        # We get baby-fish, with a 9-day cycle:\n",
    "        shoal.append(deque(range(8, -1, -1)))\n",
    "    # Count fish:\n",
    "    fish_count.append(len([fish[0] for fish in shoal]))\n",
    "    # print(f\"After {day+1:3d} days: {[fish[0] for fish in shoal]}\")"
   ]
  },
  {
   "cell_type": "code",
   "execution_count": 5,
   "id": "40757494-9339-4c3a-9989-ffbd50a9ac0e",
   "metadata": {},
   "outputs": [
    {
     "data": {
      "text/plain": [
       "362740"
      ]
     },
     "execution_count": 5,
     "metadata": {},
     "output_type": "execute_result"
    }
   ],
   "source": [
    "# The result:\n",
    "fish_count[-1]"
   ]
  },
  {
   "cell_type": "markdown",
   "id": "b59efb9b-4cdd-421f-89ae-2a2c88d8eee5",
   "metadata": {},
   "source": [
    "## part 2"
   ]
  },
  {
   "cell_type": "code",
   "execution_count": 6,
   "id": "b40320b2-d98b-45e7-b621-eecb38897f88",
   "metadata": {},
   "outputs": [
    {
     "name": "stdout",
     "output_type": "stream",
     "text": [
      "0  :  0\n",
      "1  :  112\n",
      "2  :  60\n",
      "3  :  42\n",
      "4  :  50\n",
      "5  :  36\n",
      "6  :  0\n"
     ]
    }
   ],
   "source": [
    "# Let's check the age-distribution in the starting shoal:\n",
    "def count_age(starting_shoal, age):\n",
    "    return sum([1 for x in starting_shoal if x==age])\n",
    "\n",
    "for age in range(7):\n",
    "    print(age, ' : ', count_age(starting_shoal, age))"
   ]
  },
  {
   "cell_type": "code",
   "execution_count": 7,
   "id": "0777a01d-0e08-4f36-9265-eb03f3e6ef87",
   "metadata": {},
   "outputs": [
    {
     "data": {
      "text/plain": [
       "array([[    0,   112,    60,    42,    50,    36,     0],\n",
       "       [    0,   112,    60,   154,   110,    78,    50],\n",
       "       [   36,   112,    60,   266,   170,   232,   160],\n",
       "       [  114,   162,    96,   378,   230,   498,   330],\n",
       "       [  346,   322,   210,   540,   326,   876,   560],\n",
       "       [  844,   652,   556,   862,   536,  1416,   886],\n",
       "       [ 1720,  1212,  1400,  1514,  1092,  2278,  1422],\n",
       "       [ 3136,  2098,  3120,  2726,  2492,  3792,  2514],\n",
       "       [ 5414,  3520,  6256,  4824,  5612,  6518,  5006],\n",
       "       [ 9206,  6034, 11670,  8344, 11868, 11342, 10618],\n",
       "       [15724, 11040, 20876, 14378, 23538, 19686, 22486]])"
      ]
     },
     "execution_count": 7,
     "metadata": {},
     "output_type": "execute_result"
    }
   ],
   "source": [
    "# What is the population surplus on a weekly basis?\n",
    "razlike = np.diff(fish_count, prepend=300)\n",
    "razlike.resize(len(fish_count)//7, 7)\n",
    "razlike"
   ]
  },
  {
   "cell_type": "code",
   "execution_count": 8,
   "id": "36a08995-bc92-415c-8567-b6c309804f25",
   "metadata": {},
   "outputs": [],
   "source": [
    "diff = list(razlike[0]) # [0,   112,    60,    42,    50,    36,     0]\n",
    "\n",
    "n_days = 256\n",
    "for i in range(n_days):\n",
    "    if i > 6:\n",
    "        diff.append(diff[i-7])\n",
    "    if i > 8:\n",
    "        diff[i] += diff[i-9]   "
   ]
  },
  {
   "cell_type": "code",
   "execution_count": 9,
   "id": "18a2908e-8d52-4e7c-9dd5-9a7a61c5d267",
   "metadata": {},
   "outputs": [],
   "source": [
    "shoal_size = len(starting_shoal) + np.cumsum(diff)"
   ]
  },
  {
   "cell_type": "code",
   "execution_count": 10,
   "id": "c2373e12-9bc4-470a-90a8-702631f57b97",
   "metadata": {},
   "outputs": [
    {
     "data": {
      "text/plain": [
       "1644874076764"
      ]
     },
     "execution_count": 10,
     "metadata": {},
     "output_type": "execute_result"
    }
   ],
   "source": [
    "# The result:\n",
    "shoal_size[-1]"
   ]
  }
 ],
 "metadata": {
  "kernelspec": {
   "display_name": "Python 3",
   "language": "python",
   "name": "python3"
  },
  "language_info": {
   "codemirror_mode": {
    "name": "ipython",
    "version": 3
   },
   "file_extension": ".py",
   "mimetype": "text/x-python",
   "name": "python",
   "nbconvert_exporter": "python",
   "pygments_lexer": "ipython3",
   "version": "3.8.8"
  }
 },
 "nbformat": 4,
 "nbformat_minor": 5
}
