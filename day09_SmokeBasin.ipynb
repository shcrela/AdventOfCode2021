{
 "cells": [
  {
   "cell_type": "code",
   "execution_count": 1,
   "id": "b63b7b60-e895-44e0-9667-2b460e92897f",
   "metadata": {},
   "outputs": [],
   "source": [
    "%matplotlib widget\n",
    "import numpy as np\n",
    "import scipy.ndimage as nd\n",
    "import matplotlib.pyplot as plt\n",
    "from skimage import feature\n",
    "from skimage.segmentation import watershed # for the part 2\n",
    "import matplotlib.pyplot as plt"
   ]
  },
  {
   "cell_type": "code",
   "execution_count": 2,
   "id": "95b17585-4015-4a4f-91e2-e38035ca0630",
   "metadata": {},
   "outputs": [],
   "source": [
    "# filename = \"./data/day09test.txt\"\n",
    "filename = \"./data/day09a.txt\"\n",
    "floor_list = []\n",
    "with open(filename, 'r') as ff:\n",
    "    line = ff.readline()\n",
    "    while line:\n",
    "        floor_list.append([int(n) for n in line[:-1]]) # it seems to read the newline character?!\n",
    "        line = ff.readline()\n",
    "floor = np.array(floor_list)"
   ]
  },
  {
   "cell_type": "code",
   "execution_count": 3,
   "id": "bd7e9192-a7a8-4623-aa5f-fb9e03daad78",
   "metadata": {},
   "outputs": [
    {
     "data": {
      "application/vnd.jupyter.widget-view+json": {
       "model_id": "aafccd89404f44ba9e1e9d525862ca42",
       "version_major": 2,
       "version_minor": 0
      },
      "text/plain": [
       "Canvas(toolbar=Toolbar(toolitems=[('Home', 'Reset original view', 'home', 'home'), ('Back', 'Back to previous …"
      ]
     },
     "metadata": {},
     "output_type": "display_data"
    }
   ],
   "source": [
    "fig, ax = plt.subplots()\n",
    "ax.imshow(floor, interpolation='bilinear')\n",
    "ax.set_axis_off();\n",
    "fig.show()"
   ]
  },
  {
   "cell_type": "code",
   "execution_count": 4,
   "id": "b8bcf987-c0fd-493d-bcb4-cce093dc5131",
   "metadata": {},
   "outputs": [
    {
     "name": "stderr",
     "output_type": "stream",
     "text": [
      "<ipython-input-4-938bebab73f1>:3: FutureWarning: indices argument is deprecated and will be removed in version 0.20. To avoid this warning, please do not use the indices argument. Please see peak_local_max documentation for more details.\n",
      "  peaks_mask = feature.peak_local_max(9-floor, exclude_border=False, indices=False, footprint=footprint)\n"
     ]
    },
    {
     "data": {
      "text/plain": [
       "550"
      ]
     },
     "execution_count": 4,
     "metadata": {},
     "output_type": "execute_result"
    }
   ],
   "source": [
    "footprint = np.zeros((3, 3))\n",
    "footprint[[0, 1, 1, 1, 2], [1, 0, 1, 2, 1]] = 1\n",
    "peaks_mask = feature.peak_local_max(9-floor, exclude_border=False, indices=False, footprint=footprint)\n",
    "\n",
    "np.sum(1+floor[peaks_mask])"
   ]
  },
  {
   "cell_type": "markdown",
   "id": "99e5930f-2d0e-4fc4-8121-f5c2076ba9d2",
   "metadata": {},
   "source": [
    "## part 2"
   ]
  },
  {
   "cell_type": "markdown",
   "id": "7d3d6196-aa9d-4b66-9f10-4b35772eee90",
   "metadata": {},
   "source": [
    "Created a color palette via https://medialab.github.io/iwanthue/"
   ]
  },
  {
   "cell_type": "code",
   "execution_count": 5,
   "id": "12852514-c27c-4246-8b4f-55fc8dd4e177",
   "metadata": {},
   "outputs": [],
   "source": [
    "from matplotlib.colors import LinearSegmentedColormap\n",
    "\n",
    "colors = [\"#d29db0\",\n",
    "\"#9fefd7\",\n",
    "\"#d799bb\",\n",
    "\"#cbffd6\",\n",
    "\"#ddaad6\",\n",
    "\"#def7c0\",\n",
    "\"#9db4ea\",\n",
    "\"#edcd9a\",\n",
    "\"#74bbe5\",\n",
    "\"#f9c99f\",\n",
    "\"#87deff\",\n",
    "\"#e4a08f\",\n",
    "\"#86e8eb\",\n",
    "\"#ffb9b5\",\n",
    "\"#acfffc\",\n",
    "\"#ffc8b8\",\n",
    "\"#84cbad\",\n",
    "\"#ffdff8\",\n",
    "\"#80b993\",\n",
    "\"#e5d9ff\",\n",
    "\"#9ac698\",\n",
    "\"#b8a4c7\",\n",
    "\"#aee7be\",\n",
    "\"#c2a3b8\",\n",
    "\"#c8ffe7\",\n",
    "\"#c3a59d\",\n",
    "\"#aef2ff\",\n",
    "\"#b2ad7c\",\n",
    "\"#a9dbff\",\n",
    "\"#c2cd95\",\n",
    "\"#d1ddff\",\n",
    "\"#ffe9c4\",\n",
    "\"#84b3bf\",\n",
    "\"#fff8d9\",\n",
    "\"#9caeb7\",\n",
    "\"#e9ffde\",\n",
    "\"#9db0a4\",\n",
    "\"#ffe4e2\",\n",
    "\"#8db4a0\",\n",
    "\"#ebfffa\"]\n",
    "cmap1 = LinearSegmentedColormap.from_list(\"mycmap\", colors)"
   ]
  },
  {
   "cell_type": "code",
   "execution_count": 6,
   "id": "ef93357d-0c55-44b5-9bbe-833ab88dd51a",
   "metadata": {},
   "outputs": [
    {
     "data": {
      "application/vnd.jupyter.widget-view+json": {
       "model_id": "e57009f518214504acfe093b867255bc",
       "version_major": 2,
       "version_minor": 0
      },
      "text/plain": [
       "Canvas(toolbar=Toolbar(toolitems=[('Home', 'Reset original view', 'home', 'home'), ('Back', 'Back to previous …"
      ]
     },
     "metadata": {},
     "output_type": "display_data"
    }
   ],
   "source": [
    "markers, n = nd.label(peaks_mask)\n",
    "markers[markers>0] = np.random.permutation(np.arange(101, n+101))\n",
    "labels = watershed(9-floor, markers, mask=floor<9)\n",
    "fig, ax = plt.subplots(figsize=(8, 8))\n",
    "# ax.imshow(floor, interpolation='bilinear');\n",
    "ax.imshow(np.ma.masked_equal(labels, 0), cmap=cmap1, interpolation='antialiased');\n",
    "ax.imshow(np.ma.masked_less(peaks_mask, 1));\n",
    "ax.set_axis_off()"
   ]
  },
  {
   "cell_type": "code",
   "execution_count": 7,
   "id": "d4010aa8-d525-453c-94a0-cbca4c032923",
   "metadata": {},
   "outputs": [
    {
     "data": {
      "text/plain": [
       "1100682"
      ]
     },
     "execution_count": 7,
     "metadata": {},
     "output_type": "execute_result"
    }
   ],
   "source": [
    "velicine = []\n",
    "for mark in markers[peaks_mask]:\n",
    "    if mark > 0:\n",
    "        velicine.append(np.sum(labels == mark))\n",
    "basin_sizes = np.array(velicine)\n",
    "\n",
    "np.prod(np.sort(basin_sizes)[-3:])"
   ]
  }
 ],
 "metadata": {
  "kernelspec": {
   "display_name": "Python 3",
   "language": "python",
   "name": "python3"
  },
  "language_info": {
   "codemirror_mode": {
    "name": "ipython",
    "version": 3
   },
   "file_extension": ".py",
   "mimetype": "text/x-python",
   "name": "python",
   "nbconvert_exporter": "python",
   "pygments_lexer": "ipython3",
   "version": "3.8.8"
  }
 },
 "nbformat": 4,
 "nbformat_minor": 5
}
