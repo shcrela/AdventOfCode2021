{
 "cells": [
  {
   "cell_type": "code",
   "execution_count": 153,
   "id": "a57999ca-b4c4-4751-a6fe-690a163a75dc",
   "metadata": {},
   "outputs": [],
   "source": [
    "%matplotlib tk\n",
    "import itertools\n",
    "import bisect\n",
    "from collections import OrderedDict, Counter\n",
    "from copy import deepcopy\n",
    "import numpy as np\n",
    "import matplotlib.pyplot as plt\n",
    "import networkx as nx\n",
    "import seaborn as sns; sns.set()\n",
    "\n",
    "\n",
    "def part1(template, rules, n=10):\n",
    "    # Use Counters:\n",
    "    pairs = Counter(map(str.__add__, template, template[1:]))\n",
    "    chars = Counter(template)\n",
    "    for _ in range(n):\n",
    "        for (a, b), c in pairs.copy().items():\n",
    "            x = rules[a+b]\n",
    "            chars[x] += c\n",
    "            pairs[a+b] -= c\n",
    "            pairs[a+x] += c\n",
    "            pairs[x+b] += c\n",
    "    # The result:\n",
    "    return max(chars.values()) - min(chars.values())\n",
    "\n",
    "\n",
    "def part2(template, rules):\n",
    "    return part1(template, rules, n=40)\n",
    "\n",
    "\n",
    "filename = \"./data/day14test.txt\"\n",
    "filename = \"./data/day14a.txt\"\n",
    "with open(filename, \"r\") as ff:\n",
    "    template, _, *rules = ff.read().split(\"\\n\")\n",
    "\n",
    "# Create a dictionary for the rules:\n",
    "rules = dict((r.split(' -> ') for r in rules))\n"
   ]
  },
  {
   "cell_type": "markdown",
   "id": "47ea6564-ae12-4a0e-8260-87d8626d9c3b",
   "metadata": {},
   "source": [
    "Are all the possible pairs already in the rules? - can we create pairs not in the rules?"
   ]
  },
  {
   "cell_type": "code",
   "execution_count": 155,
   "id": "835c35b6-2878-41cb-ae4a-cfead0ed4052",
   "metadata": {},
   "outputs": [
    {
     "data": {
      "text/plain": [
       "2621"
      ]
     },
     "execution_count": 155,
     "metadata": {},
     "output_type": "execute_result"
    }
   ],
   "source": [
    "part1(template, rules)"
   ]
  },
  {
   "cell_type": "code",
   "execution_count": 158,
   "id": "005cb6d0-0eb0-46a3-b9ee-88bd1fb3815c",
   "metadata": {},
   "outputs": [
    {
     "data": {
      "text/plain": [
       "2843834241366"
      ]
     },
     "execution_count": 158,
     "metadata": {},
     "output_type": "execute_result"
    }
   ],
   "source": [
    "part2(template, rules)"
   ]
  }
 ],
 "metadata": {
  "kernelspec": {
   "display_name": "visatscale",
   "language": "python",
   "name": "visatscale"
  },
  "language_info": {
   "codemirror_mode": {
    "name": "ipython",
    "version": 3
   },
   "file_extension": ".py",
   "mimetype": "text/x-python",
   "name": "python",
   "nbconvert_exporter": "python",
   "pygments_lexer": "ipython3",
   "version": "3.9.7"
  }
 },
 "nbformat": 4,
 "nbformat_minor": 5
}
