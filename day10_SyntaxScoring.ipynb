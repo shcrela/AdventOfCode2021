{
 "cells": [
  {
   "cell_type": "code",
   "execution_count": 1,
   "id": "266cdbf8-17ec-4a3b-9b54-21128dff86d3",
   "metadata": {},
   "outputs": [],
   "source": [
    "import numpy as np"
   ]
  },
  {
   "cell_type": "code",
   "execution_count": 2,
   "id": "a839cb12-717a-41d1-a3c4-b1c3e5017ed5",
   "metadata": {},
   "outputs": [],
   "source": [
    "op = list(\"<([{\")\n",
    "cl = list(\">)]}\")"
   ]
  },
  {
   "cell_type": "code",
   "execution_count": 3,
   "id": "fcfd513f-5f28-439e-a3ac-a721ef96793c",
   "metadata": {},
   "outputs": [],
   "source": [
    "# filename = \"./data/day10test.txt\"\n",
    "filename = \"./data/day10a.txt\"\n",
    "syntax = []\n",
    "with open(filename, 'r') as ff:\n",
    "    lines = ff.read()\n",
    "syntax = lines.split(\"\\n\")"
   ]
  },
  {
   "cell_type": "code",
   "execution_count": 4,
   "id": "8599d5ad-b749-4bed-b693-0205ae637ab0",
   "metadata": {},
   "outputs": [],
   "source": [
    "openings = []\n",
    "closings = []\n",
    "corrupted_lines = []\n",
    "corrupting_signs = []\n",
    "for line in syntax:\n",
    "    io=0\n",
    "    ic=0\n",
    "    si=0\n",
    "    for sign in line:\n",
    "        if sign in op:\n",
    "            index = op.index(sign)\n",
    "            openings.append(sign)\n",
    "        elif sign in cl:\n",
    "            last_opened = openings.pop()\n",
    "            sind = op.index(last_opened)\n",
    "            if cl.index(sign) != sind:\n",
    "                # print(f\"- {line:<25s} - Expected '{cl[sind]}', but found '{sign}' instead.\")\n",
    "                corrupted_lines.append(line)\n",
    "                corrupting_signs.append(sign)\n",
    "                continue\n",
    "        else:\n",
    "            print(\"WTF?\")"
   ]
  },
  {
   "cell_type": "markdown",
   "id": "6f5de6c2-4663-4f44-a031-cc953d0efe9a",
   "metadata": {},
   "source": [
    "```\n",
    "): 3 points.\n",
    "]: 57 points.\n",
    "}: 1197 points.\n",
    ">: 25137 points.\n",
    "```"
   ]
  },
  {
   "cell_type": "code",
   "execution_count": 5,
   "id": "2d4bf4fb-44b4-457a-8a6b-4de1acfbfa1f",
   "metadata": {},
   "outputs": [],
   "source": [
    "scoring = {\")\" : 3,\n",
    "           \"]\" : 57,\n",
    "           \"}\" : 1197,\n",
    "           \">\" : 25137}"
   ]
  },
  {
   "cell_type": "code",
   "execution_count": 6,
   "id": "94f9f5e0-3ba0-441f-ab6f-2ef66851ff04",
   "metadata": {},
   "outputs": [
    {
     "data": {
      "text/plain": [
       "392043"
      ]
     },
     "execution_count": 6,
     "metadata": {},
     "output_type": "execute_result"
    }
   ],
   "source": [
    "score = 0\n",
    "for ss in corrupting_signs:\n",
    "    score += scoring[ss]\n",
    "score"
   ]
  },
  {
   "cell_type": "markdown",
   "id": "f4ba80f7-e23b-4cb2-b686-55e905239ce4",
   "metadata": {},
   "source": [
    "## part 2"
   ]
  },
  {
   "cell_type": "code",
   "execution_count": 7,
   "id": "3e7d8c32-b799-45e3-bfac-5722c1f363f9",
   "metadata": {},
   "outputs": [],
   "source": [
    "openings = []\n",
    "incomplete_lines = set(syntax) - set(corrupted_lines)\n",
    "completion_signs = []\n",
    "for i, line in enumerate(list(incomplete_lines)):\n",
    "    completion_signs.append([])\n",
    "    openings.append([])\n",
    "    for sign in line:\n",
    "        if sign in op:\n",
    "            openings[i].append(sign)\n",
    "            closing_sign = cl[op.index(sign)]\n",
    "            completion_signs[i].append(closing_sign)\n",
    "        elif sign in cl:\n",
    "            _ = openings[i].pop()\n",
    "            _ = completion_signs[i].pop()\n",
    "completion = []\n",
    "for line in completion_signs:\n",
    "    completion.append(line[::-1])"
   ]
  },
  {
   "cell_type": "markdown",
   "id": "223b422c-09f9-434c-abb3-d83044e9e5e4",
   "metadata": {},
   "source": [
    "Scoring:\n",
    "```\n",
    "): 1 point.\n",
    "]: 2 points.\n",
    "}: 3 points.\n",
    ">: 4 points.\n",
    "```"
   ]
  },
  {
   "cell_type": "code",
   "execution_count": 8,
   "id": "d85b1b4c-80c7-48de-91a5-0f0e32b4d31b",
   "metadata": {},
   "outputs": [],
   "source": [
    "def line_score(line):\n",
    "    scoring = {\")\" : 1,\n",
    "               \"]\" : 2,\n",
    "               \"}\" : 3,\n",
    "               \">\" : 4}\n",
    "    score = 0\n",
    "    for sign in line:\n",
    "        prev_score = np.copy(score)\n",
    "        score = prev_score * 5 + scoring[sign]\n",
    "        # print(f\"{sign} : Score: 5*{prev_score}+{scoring[sign]} = {score}\")\n",
    "    return score"
   ]
  },
  {
   "cell_type": "code",
   "execution_count": 9,
   "id": "d1e681e6-8a7e-466b-a597-e643266dac9e",
   "metadata": {},
   "outputs": [],
   "source": [
    "scores = []\n",
    "for line in completion:\n",
    "    scores.append(line_score(line))"
   ]
  },
  {
   "cell_type": "code",
   "execution_count": 10,
   "id": "174e6367-42fd-420c-974f-89e86549f395",
   "metadata": {},
   "outputs": [
    {
     "data": {
      "text/plain": [
       "1605968119.0"
      ]
     },
     "execution_count": 10,
     "metadata": {},
     "output_type": "execute_result"
    }
   ],
   "source": [
    "np.median(np.array(scores))"
   ]
  },
  {
   "cell_type": "code",
   "execution_count": 11,
   "id": "6d068f8c-462d-4024-91ff-590728d84084",
   "metadata": {},
   "outputs": [],
   "source": [
    "# for c, s in zip(completion, scores):\n",
    "#     print(''.join(c), '-', s, \"total points.\")"
   ]
  }
 ],
 "metadata": {
  "kernelspec": {
   "display_name": "Python 3",
   "language": "python",
   "name": "python3"
  },
  "language_info": {
   "codemirror_mode": {
    "name": "ipython",
    "version": 3
   },
   "file_extension": ".py",
   "mimetype": "text/x-python",
   "name": "python",
   "nbconvert_exporter": "python",
   "pygments_lexer": "ipython3",
   "version": "3.8.8"
  }
 },
 "nbformat": 4,
 "nbformat_minor": 5
}
