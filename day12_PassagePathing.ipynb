{
 "cells": [
  {
   "cell_type": "code",
   "execution_count": 1,
   "id": "2bc88dd6-bf83-46ed-a9e6-ce1e78fb9968",
   "metadata": {},
   "outputs": [],
   "source": [
    "%matplotlib widget\n",
    "import random\n",
    "import itertools\n",
    "from operator import itemgetter\n",
    "from copy import deepcopy\n",
    "import numpy as np\n",
    "import pandas as pd\n",
    "import networkx as nx\n",
    "import string\n",
    "import matplotlib.pyplot as plt\n",
    "import seaborn as sns\n",
    "sns.set()\n",
    "\n",
    "\n",
    "filename = \"./data/day12a.txt\"\n",
    "with open(filename) as ff:\n",
    "    data = ff.read().split(\"\\n\")"
   ]
  },
  {
   "cell_type": "markdown",
   "id": "e99d6fe6-8b2b-474c-a6a9-1796c6dd1132",
   "metadata": {},
   "source": [
    "It turs-out that \"luckilly\", there are no big caves interconnected, as this would lead to infinite \"va et vient\" between those two (that being a viable path, given the conditions)."
   ]
  },
  {
   "cell_type": "code",
   "execution_count": 2,
   "id": "4f7e471a-ad7b-41b4-9df7-b15bdb65bf27",
   "metadata": {},
   "outputs": [],
   "source": [
    "G = nx.Graph()\n",
    "G.add_node(\"start\", pos=np.array((3, 5)), size=350)\n",
    "G.add_node(\"end\", pos=np.array((3, 0)), size=350)\n",
    "\n",
    "for link in data:\n",
    "    pair = [x for x in link.split(\"-\")]\n",
    "    for a in pair:\n",
    "        if a not in list(G.nodes()):\n",
    "            size = 900 if a.isupper() else 350\n",
    "            G.add_node(a, pos=5*np.random.random(size=2), size=size)\n",
    "    if pair not in G.edges():\n",
    "        G.add_edge(*pair)"
   ]
  },
  {
   "cell_type": "markdown",
   "id": "2522f0b3-e7c1-46bb-85f5-18945bf60c58",
   "metadata": {},
   "source": [
    "```python\n",
    "# %load \"./data/day12_Graph_adjust_positions.py\"\n",
    "```\n",
    "![Cave system v1](./visualisations/day12_graph.png)"
   ]
  },
  {
   "cell_type": "code",
   "execution_count": 3,
   "id": "8b60b310-9372-41fa-bc26-2b997a004f37",
   "metadata": {},
   "outputs": [],
   "source": [
    "def part1(G, path=['start']):\n",
    "    final = 0\n",
    "    for cave in G.neighbors(path[-1]):\n",
    "        if cave.isupper() or not cave in path:\n",
    "            final += 1 if cave == 'end' else part1(G, path + [cave])\n",
    "    return final"
   ]
  },
  {
   "cell_type": "code",
   "execution_count": 4,
   "id": "422c303b-85a6-48fe-81ba-3f2145dc90a9",
   "metadata": {},
   "outputs": [
    {
     "data": {
      "text/plain": [
       "5076"
      ]
     },
     "execution_count": 4,
     "metadata": {},
     "output_type": "execute_result"
    }
   ],
   "source": [
    "part1(G)"
   ]
  },
  {
   "cell_type": "code",
   "execution_count": 5,
   "id": "7d7a661d-8f72-4762-b27d-b3dc60ba4b44",
   "metadata": {},
   "outputs": [],
   "source": [
    "def small_visitable(cave, path):\n",
    "    if cave in path:\n",
    "        if cave in [\"start\", \"end\"]:\n",
    "            return False\n",
    "        else:\n",
    "            small_list = [x for x in path if x.islower()]\n",
    "            already_two = (len(set(small_list)) == len(small_list) - 1) # there's one double\n",
    "            visitable =  not already_two\n",
    "            return visitable\n",
    "    else:\n",
    "        return True"
   ]
  },
  {
   "cell_type": "code",
   "execution_count": 6,
   "id": "fe48d905-3560-4135-b776-e5cebb50220a",
   "metadata": {},
   "outputs": [],
   "source": [
    "def part2(G, path=['start']):\n",
    "    final = 0\n",
    "    for cave in G.neighbors(path[-1]):\n",
    "        if cave.isupper() or small_visitable(cave, path):\n",
    "            final += 1 if cave == 'end' else part2(G, path + [cave])\n",
    "    return final"
   ]
  },
  {
   "cell_type": "code",
   "execution_count": 7,
   "id": "bb9a63e6-8ab1-4090-96bd-f70464cf0162",
   "metadata": {},
   "outputs": [
    {
     "data": {
      "text/plain": [
       "145643"
      ]
     },
     "execution_count": 7,
     "metadata": {},
     "output_type": "execute_result"
    }
   ],
   "source": [
    "part2(G)"
   ]
  }
 ],
 "metadata": {
  "kernelspec": {
   "display_name": "Python 3",
   "language": "python",
   "name": "python3"
  },
  "language_info": {
   "codemirror_mode": {
    "name": "ipython",
    "version": 3
   },
   "file_extension": ".py",
   "mimetype": "text/x-python",
   "name": "python",
   "nbconvert_exporter": "python",
   "pygments_lexer": "ipython3",
   "version": "3.8.8"
  }
 },
 "nbformat": 4,
 "nbformat_minor": 5
}
