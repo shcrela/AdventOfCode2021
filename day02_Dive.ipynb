{
 "cells": [
  {
   "cell_type": "markdown",
   "id": "2d80b07f-6121-4971-b960-52d3b9ae950d",
   "metadata": {},
   "source": [
    "# --- Day 2: Dive! ---\n",
    "Now, you need to figure out how to pilot this thing.\n",
    "\n",
    "It seems like the submarine can take a series of commands like forward 1, down 2, or up 3:\n",
    "\n",
    "forward X increases the horizontal position by X units.\n",
    "down X increases the depth by X units.\n",
    "up X decreases the depth by X units.\n",
    "Note that since you're on a submarine, down and up affect your depth, and so they have the opposite result of what you might expect.\n",
    "\n",
    "The submarine seems to already have a planned course (your puzzle input). You should probably figure out where it's going. For example:\n",
    "```\n",
    "forward 5\n",
    "down 5\n",
    "forward 8\n",
    "up 3\n",
    "down 8\n",
    "forward 2\n",
    "```\n",
    "Your horizontal position and depth both start at 0. The steps above would then modify them as follows:\n",
    "\n",
    "- forward 5 adds 5 to your horizontal position, a total of 5.  \n",
    "- down 5 adds 5 to your depth, resulting in a value of 5.  \n",
    "- forward 8 adds 8 to your horizontal position, a total of 13.  \n",
    "- up 3 decreases your depth by 3, resulting in a value of 2.  \n",
    "- down 8 adds 8 to your depth, resulting in a value of 10.  \n",
    "- forward 2 adds 2 to your horizontal position, a total of 15.  \n",
    "\n",
    "After following these instructions, you would have a horizontal position of 15 and a depth of 10. (Multiplying these together produces 150.)\n",
    "\n",
    "Calculate the horizontal position and depth you would have after following the planned course. **What do you get if you multiply your final horizontal position by your final depth?**"
   ]
  },
  {
   "cell_type": "code",
   "execution_count": 1,
   "id": "096b455b-7913-4100-be1f-50c0cf4108c7",
   "metadata": {},
   "outputs": [],
   "source": [
    "import numpy as np\n",
    "import pandas as pd"
   ]
  },
  {
   "cell_type": "code",
   "execution_count": 2,
   "id": "1d6f4f11-ce8c-4281-af6b-8f1e2b777f37",
   "metadata": {},
   "outputs": [],
   "source": [
    "# Load the data:\n",
    "displacements = pd.read_csv(\"data/day02a.txt\", delimiter=\" \", names=[\"where\", \"increment\"])\n",
    "\n",
    "position = [0, 0] # Initial position (x, depth)\n",
    "\n",
    "############## Unnecessary, used only for plotting ###############\n",
    "positions = []\n",
    "ppp = np.copy(position)\n",
    "positions.append(ppp)\n",
    "##################################################################\n",
    "\n",
    "for a, b in displacements.values:\n",
    "    if a==\"forward\":\n",
    "        position[0] += b # go forward\n",
    "    elif a==\"down\":\n",
    "        position[1] += b # increase depth\n",
    "    elif a== \"up\":\n",
    "        position[1] -= b # decrease depth\n",
    "\n",
    "############## Unnecessary, used only for plotting ###############    \n",
    "    ppp = np.copy(position) \n",
    "    positions.append(ppp)\n",
    "##################################################################"
   ]
  },
  {
   "cell_type": "code",
   "execution_count": 3,
   "id": "244fd116-3993-4fe7-bd7d-95ca281c8807",
   "metadata": {},
   "outputs": [
    {
     "data": {
      "text/plain": [
       "1648020"
      ]
     },
     "execution_count": 3,
     "metadata": {},
     "output_type": "execute_result"
    }
   ],
   "source": [
    "# And the result is:\n",
    "np.product(position)"
   ]
  },
  {
   "cell_type": "markdown",
   "id": "ba7996af-61f8-4083-a9f1-961a16068932",
   "metadata": {},
   "source": [
    "### [A little less code-a-sation, a little more action](https://www.youtube.com/watch?v=KThbNtVCFs4)\n",
    "\n",
    "Submarine position plotted against the sonar scans we had on day 1."
   ]
  },
  {
   "cell_type": "markdown",
   "id": "66cacbc9-5cd3-4ed2-8dcd-faf61913afa7",
   "metadata": {},
   "source": [
    "<details>\n",
    "<summary>plotting code</summary>\n",
    "\n",
    "```Python  \n",
    "%matplotlib tk\n",
    "import matplotlib.pyplot as plt\n",
    "from matplotlib.animation import FuncAnimation\n",
    "from plotting_functions import show_depth\n",
    "\n",
    "scanned_depths = np.loadtxt(\"data/day01a.txt\")\n",
    "show_depth(scanned_depths, title=\"Dive\", xlabel=\"\")\n",
    "\n",
    "positions_arr = np.array(positions)\n",
    "positions_arr[:,1] *=-1\n",
    "ax = plt.gca()\n",
    "fig = plt.gcf()\n",
    "submarine, = ax.plot(positions_arr[0,0], positions_arr[0,1], \">r\", ms=12)\n",
    "\n",
    "n_positions = len(positions_arr)\n",
    "def update(num, positions_arr, ax):\n",
    "    submarine.set_data(positions_arr[num, 0], positions_arr[num, 1])\n",
    "    ax.set_title(f\"Position N° {num} / {n_positions}\")\n",
    "\n",
    "\n",
    "\n",
    "ani = FuncAnimation(fig, update, n_positions, fargs=[positions_arr, ax],\n",
    "                    interval=50, blit=False)\n",
    "plt.show()\n",
    "\n",
    "# ani.save(\"visualisations/day02a_submarine.gif\", dpi=80)\n",
    "```\n",
    "</details>"
   ]
  },
  {
   "cell_type": "markdown",
   "id": "db337eef-6aee-4a69-b197-99e451804aa4",
   "metadata": {},
   "source": [
    "![submarine animation](./visualisations/day02a_submarine.gif)"
   ]
  },
  {
   "cell_type": "markdown",
   "id": "41618ec8-6beb-404f-90b7-17b69f31cdb3",
   "metadata": {},
   "source": [
    "## --- Part Two ---\n",
    "Based on your calculations, the planned course doesn't seem to make any sense. You find the submarine manual and discover that the process is actually slightly more complicated.\n",
    "\n",
    "In addition to horizontal position and depth, you'll also need to track a third value, aim, which also starts at 0. The commands also mean something entirely different than you first thought:\n",
    "\n",
    "-  down X increases your aim by X units.  \n",
    "-  up X decreases your aim by X units.  \n",
    "- forward X does two things:  \n",
    "  -  It increases your horizontal position by X units.  \n",
    "  -  It increases your depth by your aim multiplied by X.  \n",
    "  \n",
    "Again note that since you're on a submarine, down and up do the opposite of what you might expect: \"down\" means aiming in the positive direction.\n",
    "\n",
    "Now, the above example does something different:\n",
    "\n",
    "-  forward 5 adds 5 to your horizontal position, a total of 5. Because your aim is 0, your depth does not change.  \n",
    "-  down 5 adds 5 to your aim, resulting in a value of 5.  \n",
    "-  forward 8 adds 8 to your horizontal position, a total of 13. Because your aim is 5, your depth increases by 8*5=40.  \n",
    "-  up 3 decreases your aim by 3, resulting in a value of 2.  \n",
    "-  down 8 adds 8 to your aim, resulting in a value of 10.  \n",
    "-  forward 2 adds 2 to your horizontal position, a total of 15. Because your aim is 10, your depth increases by 2*10=20 to a total of 60.  \n",
    "\n",
    "After following these new instructions, you would have a horizontal position of 15 and a depth of 60. (Multiplying these produces 900.)\n",
    "\n",
    "Using this new interpretation of the commands, calculate the horizontal position and depth you would have after following the planned course. **What do you get if you multiply your final horizontal position by your final depth?**"
   ]
  },
  {
   "cell_type": "code",
   "execution_count": 4,
   "id": "d74e26cb-8013-44f3-affb-ed63db950592",
   "metadata": {},
   "outputs": [],
   "source": [
    "position = [0, 0, 0]\n",
    "\n",
    "for a, b in displacements.values:\n",
    "    if a==\"forward\":\n",
    "        position[0] += b\n",
    "        position[1] += position[2]*b\n",
    "    elif a==\"down\":\n",
    "        position[2] += b\n",
    "    elif a== \"up\":\n",
    "        position[2] -= b"
   ]
  },
  {
   "cell_type": "code",
   "execution_count": 5,
   "id": "8b0f6c80-e807-435d-91a8-181d4664c99c",
   "metadata": {},
   "outputs": [
    {
     "data": {
      "text/plain": [
       "1759818555"
      ]
     },
     "execution_count": 5,
     "metadata": {},
     "output_type": "execute_result"
    }
   ],
   "source": [
    "# THE result:\n",
    "np.product(position[:2])"
   ]
  },
  {
   "cell_type": "markdown",
   "id": "89aa1dcd-be34-40f7-a16d-7026b838bcb4",
   "metadata": {},
   "source": [
    "No animation for this part as the \"aim\" position is the same as submarine position (the depth value) from part 1, and the submarine position in this part 2 doesn't makes sense when plotted against the sonar scans depth values we got from the previous day."
   ]
  }
 ],
 "metadata": {
  "kernelspec": {
   "display_name": "Python 3",
   "language": "python",
   "name": "python3"
  },
  "language_info": {
   "codemirror_mode": {
    "name": "ipython",
    "version": 3
   },
   "file_extension": ".py",
   "mimetype": "text/x-python",
   "name": "python",
   "nbconvert_exporter": "python",
   "pygments_lexer": "ipython3",
   "version": "3.8.8"
  }
 },
 "nbformat": 4,
 "nbformat_minor": 5
}
