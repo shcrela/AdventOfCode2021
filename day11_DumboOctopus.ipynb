{
 "cells": [
  {
   "cell_type": "code",
   "execution_count": 1,
   "id": "b64d89bb-259c-4b30-bd48-8defd2a1f7ec",
   "metadata": {},
   "outputs": [],
   "source": [
    "%matplotlib tk\n",
    "import numpy as np\n",
    "import matplotlib.pyplot as plt\n",
    "import seaborn as sns\n",
    "from skimage.morphology import binary_dilation, dilation"
   ]
  },
  {
   "cell_type": "code",
   "execution_count": 2,
   "id": "4bdb94ff-c233-4fbc-8652-a2aeeb426e0a",
   "metadata": {},
   "outputs": [],
   "source": [
    "def energize_neighbours(image, exploded=None, n_flash=0):\n",
    "    \"\"\"Energize neighbours in one epoch, one flash at a time\"\"\"\n",
    "    selem = np.ones((3, 3))\n",
    "    selem[1, 1] = 0 # Energize neighbours only, not itself\n",
    "    if isinstance(exploded, type(None)):\n",
    "        exploded = np.zeros_like(image, dtype=bool)\n",
    "    newly_exploded = image > 9\n",
    "    n_flash += np.sum(newly_exploded)\n",
    "    inds = np.where(newly_exploded)\n",
    "    exploded = np.logical_or(exploded, newly_exploded)\n",
    "    image[exploded] = 0\n",
    "    if len(inds[0]) > 0:\n",
    "        for i, j in zip(inds[0], inds[1]): # We need to dilate around each flash individually\n",
    "            mask = np.zeros_like(image)\n",
    "            mask[i, j] = 1\n",
    "            image += binary_dilation(mask, selem=selem).astype(int)\n",
    "            image[exploded] = 0 # Just to make sure\n",
    "\n",
    "    if np.sum(image > 9) > 0: # If new octopusses have reached high enough energy after neighbours had flashed\n",
    "        # new flashing occurs -> neighbours get energized\n",
    "        return energize_neighbours(image, exploded=exploded.astype(bool), n_flash=n_flash)\n",
    "\n",
    "    return(image, n_flash)"
   ]
  },
  {
   "cell_type": "code",
   "execution_count": 3,
   "id": "5f7626db-ea72-41bb-bcad-4c518c1efb6e",
   "metadata": {},
   "outputs": [],
   "source": [
    "# filename = \"./data/day11test.txt\"\n",
    "filename = \"./data/day11a.txt\"\n",
    "with open(filename, 'r') as ff:\n",
    "    data = ff.read()\n",
    "\n",
    "puss = np.array([[int(x) for x in line] for line in data.split(\"\\n\")])"
   ]
  },
  {
   "cell_type": "code",
   "execution_count": 4,
   "id": "5e001eb8-b664-4015-9bcf-6d46c93c30bc",
   "metadata": {},
   "outputs": [],
   "source": [
    "counter = 0\n",
    "n_flashes = [0] # no flashes in initial configuration\n",
    "while True:\n",
    "    puss+=1\n",
    "    counter+=1 # epoch counter\n",
    "    slika, broj = energize_neighbours(puss)\n",
    "    n_flashes.append(broj) # contains number of flashes for each epoch\n",
    "    if np.all(slika == slika[0,0]): # if all equal\n",
    "        break"
   ]
  },
  {
   "cell_type": "markdown",
   "id": "b7aef408-3a54-443b-ae61-0ca26ee15e2e",
   "metadata": {},
   "source": [
    "## part 1"
   ]
  },
  {
   "cell_type": "code",
   "execution_count": 5,
   "id": "7115f301-5967-44f0-9060-e1f034b444b0",
   "metadata": {},
   "outputs": [
    {
     "data": {
      "text/plain": [
       "1667"
      ]
     },
     "execution_count": 5,
     "metadata": {},
     "output_type": "execute_result"
    }
   ],
   "source": [
    "# Accumulated total of flashes in epoch 100\n",
    "np.cumsum(n_flashes)[100]"
   ]
  },
  {
   "cell_type": "markdown",
   "id": "8d09f4d3-6207-4137-9bd4-881f8a38872b",
   "metadata": {},
   "source": [
    "## part 2"
   ]
  },
  {
   "cell_type": "code",
   "execution_count": 6,
   "id": "94fd675d-a60d-4485-add0-ae206e731c6c",
   "metadata": {},
   "outputs": [
    {
     "data": {
      "text/plain": [
       "488"
      ]
     },
     "execution_count": 6,
     "metadata": {},
     "output_type": "execute_result"
    }
   ],
   "source": [
    "# When did the octopuses first synchronized?\n",
    "counter"
   ]
  },
  {
   "cell_type": "markdown",
   "id": "b6c833b6-f632-498d-bb06-f48ac6c12dd0",
   "metadata": {},
   "source": [
    "## Animation"
   ]
  },
  {
   "cell_type": "code",
   "execution_count": 7,
   "id": "cae7fecc-bf30-40c9-841a-12b75ca5af3c",
   "metadata": {},
   "outputs": [],
   "source": [
    "# %load \"./visualisations/scripts/day11_dumbo_animation.py\""
   ]
  },
  {
   "cell_type": "markdown",
   "id": "8d7917cf-0059-4fda-ad03-f746edee5e21",
   "metadata": {},
   "source": [
    "![Dambo Animation](./visualisations/day11a_Dambos.gif)"
   ]
  }
 ],
 "metadata": {
  "kernelspec": {
   "display_name": "Python 3",
   "language": "python",
   "name": "python3"
  },
  "language_info": {
   "codemirror_mode": {
    "name": "ipython",
    "version": 3
   },
   "file_extension": ".py",
   "mimetype": "text/x-python",
   "name": "python",
   "nbconvert_exporter": "python",
   "pygments_lexer": "ipython3",
   "version": "3.8.8"
  }
 },
 "nbformat": 4,
 "nbformat_minor": 5
}
