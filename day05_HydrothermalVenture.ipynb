{
 "cells": [
  {
   "cell_type": "markdown",
   "id": "7837e7dd-391e-4a1d-9aba-2564ce6483da",
   "metadata": {},
   "source": [
    "# --- Day 5: Hydrothermal Venture ---\n",
    "You come across a field of hydrothermal vents on the ocean floor! These vents constantly produce large, opaque clouds, so it would be best to avoid them if possible.\n",
    "\n",
    "They tend to form in lines; the submarine helpfully produces a list of nearby lines of vents (your puzzle input) for you to review. For example:\n",
    "```\n",
    "0,9 -> 5,9\n",
    "8,0 -> 0,8\n",
    "9,4 -> 3,4\n",
    "2,2 -> 2,1\n",
    "7,0 -> 7,4\n",
    "6,4 -> 2,0\n",
    "0,9 -> 2,9\n",
    "3,4 -> 1,4\n",
    "0,0 -> 8,8\n",
    "5,5 -> 8,2\n",
    "```\n",
    "Each line of vents is given as a line segment in the format x1,y1 -> x2,y2 where x1,y1 are the coordinates of one end the line segment and x2,y2 are the coordinates of the other end. These line segments include the points at both ends. In other words:\n",
    "\n",
    "An entry like 1,1 -> 1,3 covers points 1,1, 1,2, and 1,3.\n",
    "An entry like 9,7 -> 7,7 covers points 9,7, 8,7, and 7,7.\n",
    "For now, only consider horizontal and vertical lines: lines where either x1 = x2 or y1 = y2.\n",
    "\n",
    "So, the horizontal and vertical lines from the above list would produce the following diagram:\n",
    "```\n",
    ".......1..\n",
    "..1....1..\n",
    "..1....1..\n",
    ".......1..\n",
    ".112111211\n",
    "..........\n",
    "..........\n",
    "..........\n",
    "..........\n",
    "222111....\n",
    "```\n",
    "In this diagram, the top left corner is 0,0 and the bottom right corner is 9,9. Each position is shown as the number of lines which cover that point or . if no line covers that point. The top-left pair of 1s, for example, comes from 2,2 -> 2,1; the very bottom row is formed by the overlapping lines 0,9 -> 5,9 and 0,9 -> 2,9.\n",
    "\n",
    "To avoid the most dangerous areas, you need to determine the number of points where at least two lines overlap. In the above example, this is anywhere in the diagram with a 2 or larger - a total of 5 points.\n",
    "\n",
    "Consider only horizontal and vertical lines. **At how many points do at least two lines overlap**?"
   ]
  },
  {
   "cell_type": "code",
   "execution_count": 1,
   "id": "a6bf7baf-d867-4049-9c4e-d5ac6ca6a263",
   "metadata": {},
   "outputs": [],
   "source": [
    "import os\n",
    "import numpy as np"
   ]
  },
  {
   "cell_type": "code",
   "execution_count": 2,
   "id": "576d254b-e24e-4174-889d-951b169eff2d",
   "metadata": {},
   "outputs": [],
   "source": [
    "filename = \"data/day05a.txt\"\n",
    "\n",
    "num_lines = sum(1 for line in open(filename))"
   ]
  },
  {
   "cell_type": "code",
   "execution_count": 3,
   "id": "bc02a1d9-11c4-4024-aee5-55de58463182",
   "metadata": {},
   "outputs": [
    {
     "data": {
      "text/plain": [
       "6564"
      ]
     },
     "execution_count": 3,
     "metadata": {},
     "output_type": "execute_result"
    }
   ],
   "source": [
    "vent_lines = []\n",
    "vlarr = np.empty((num_lines, 2, 2), dtype=int)\n",
    "i = 0\n",
    "with open(filename, \"r\") as ff:\n",
    "    for line in ff:\n",
    "        start_str, _, stop_str = line.split()\n",
    "        start = [int(s) for s in start_str.split(',')]\n",
    "        stop = [int(s) for s in stop_str.split(',')]\n",
    "        vent_lines.append(start + stop)\n",
    "        vlarr[i][0] = np.array(start)\n",
    "        vlarr[i][1] = np.array(stop)\n",
    "        i += 1\n",
    "\n",
    "# Construct the reduced arrary, containing only the lines where there is no changement in x or in y\n",
    "reduced_vlarr = vlarr[np.where(np.diff(vlarr, axis=1)==0)[0]]\n",
    "\n",
    "carto = np.zeros((int(np.max(reduced_vlarr[:,:,1])+1), int(np.max(reduced_vlarr[:,:,0])+1)), dtype=int)\n",
    "\n",
    "for i, rv in enumerate(reduced_vlarr):\n",
    "    x1, x2 = np.sort(rv[:, 0])\n",
    "    y1, y2 = np.sort(rv[:, 1])\n",
    "    # print(x1, x2, y1, y2)\n",
    "    if x1 != x2:\n",
    "        carto[x1:x2+1, y1] += 1\n",
    "    elif y1 != y2:\n",
    "        carto[x1, y1:y2+1] += 1\n",
    "\n",
    "np.count_nonzero(carto > 1)"
   ]
  },
  {
   "cell_type": "markdown",
   "id": "ec8b9263-971d-47cd-a6a2-e7502ff14a5a",
   "metadata": {},
   "source": [
    "## part 2"
   ]
  },
  {
   "cell_type": "code",
   "execution_count": 4,
   "id": "55835fd3-93e4-4699-9f33-55fd04a5b966",
   "metadata": {},
   "outputs": [],
   "source": [
    "filename = \"data/day05a.txt\"\n",
    "\n",
    "num_lines = sum(1 for line in open(filename))"
   ]
  },
  {
   "cell_type": "code",
   "execution_count": 5,
   "id": "8a2e0c51-ba53-4b40-850e-c858b54fd8d1",
   "metadata": {
    "tags": []
   },
   "outputs": [],
   "source": [
    "vlarr = np.empty((num_lines, 2, 2), dtype=int)\n",
    "i=0\n",
    "with open(filename, \"r\") as ff:\n",
    "    for line in ff:\n",
    "        # print(line)\n",
    "        start_str, _, stop_str = line.split()\n",
    "        start = [int(s) for s in start_str.split(',')]\n",
    "        stop = [int(s) for s in stop_str.split(',')]\n",
    "        # print(start, stop)\n",
    "        vlarr[i][0] = np.array(start)\n",
    "        vlarr[i][1] = np.array(stop)\n",
    "        i+=1"
   ]
  },
  {
   "cell_type": "code",
   "execution_count": 6,
   "id": "94fcfea2-95ef-49de-9c67-52e6a633d636",
   "metadata": {
    "tags": []
   },
   "outputs": [
    {
     "data": {
      "text/plain": [
       "19172"
      ]
     },
     "execution_count": 6,
     "metadata": {},
     "output_type": "execute_result"
    }
   ],
   "source": [
    "size_x = int(np.max(vlarr))\n",
    "carto = np.zeros((size_x+1, size_x+1), dtype=int)\n",
    "# def draw_lines(line_coords, carto):\n",
    "\n",
    "def draw_line(in_iter):\n",
    "    x1, y1, x2, y2 = np.array(in_iter)\n",
    "    # print(\"\\n\",(x1, y1), (x2, y2))\n",
    "    i=0\n",
    "    conditions = {\"horizontal_lr\" : ((x1 < x2) & (y1 == y2)),\n",
    "                  \"horizontal_rl\" : ((x1 > x2) & (y1 == y2)),\n",
    "                  \"vertical_ud\" : (x1 == x2) & (y1 < y2),\n",
    "                  \"vertical_du\" : (x1 == x2) & (y1 > y2),\n",
    "                  \"diagonal_tblr\" : ((x1 < x2) & (y1 < y2)) & (x2-x1 == y2-y1),\n",
    "                  \"diagonal_tbrl\" : ((x1 > x2) & (y1 < y2)) & (x1-x2 == y2-y1),\n",
    "                  \"diagonal_btlr\" : ((x1 < x2) & (y1 > y2)) & (x2-x1 == y1-y2),\n",
    "                  \"diagonal_btrl\" : ((x1 > x2) & (y1 > y2)) & (x1-x2 == y1-y2)}\n",
    "    \n",
    "    indices = {\"horizontal_lr\" : [[x1+i, y1] for i in range(x2-x1+1)], # 0\n",
    "               \"horizontal_rl\" : [[x1-i, y1] for i in range(x1-x2+1)], # 1\n",
    "               \"vertical_ud\" : [[x1, y1+i] for i in range(y2-y1+1)], # 2\n",
    "               \"vertical_du\" : [[x1, y1-i] for i in range(y1-y2+1)], # 3 (2, 2) (2, 1)\n",
    "               \"diagonal_tblr\" : [[x1+i, y1+i] for i in range(x2-x1+1)], # 4\n",
    "               \"diagonal_tbrl\" : [[x1-i, y1+i] for i in range(x1-x2+1)], # 5\n",
    "               \"diagonal_btlr\" : [[x1+i, y1-i] for i in range(x2-x1+1)],\n",
    "               \"diagonal_btrl\" : [[x1-i, y1-i] for i in range(x1-x2+1)]}\n",
    "\n",
    "    for case, cond in conditions.items():\n",
    "        # print(\"Condition \", i, \" is \", cond)\n",
    "        i+=1\n",
    "        if cond:\n",
    "            # print(indices[case])\n",
    "            return indices.get(case, \"kako su tvoji?\")\n",
    "\n",
    "\n",
    "for rv in vlarr:\n",
    "    ind = draw_line(rv.ravel())\n",
    "    if ind:\n",
    "        for iii in ind:\n",
    "            # print(iii)\n",
    "            carto[tuple(iii)] += 1\n",
    "        # print(carto.T)\n",
    "        \n",
    "\n",
    "np.count_nonzero(carto > 1)"
   ]
  },
  {
   "cell_type": "code",
   "execution_count": 7,
   "id": "53fc47cb-2bbb-479f-91b1-67e696aacc39",
   "metadata": {},
   "outputs": [
    {
     "data": {
      "image/png": "[encoded data removed]",
      "text/plain": [
       "<Figure size 288x288 with 1 Axes>"
      ]
     },
     "metadata": {
      "needs_background": "light"
     },
     "output_type": "display_data"
    }
   ],
   "source": [
    "import matplotlib.pyplot as plt\n",
    "\n",
    "plt.matshow(carto.T);"
   ]
  },
  {
   "cell_type": "code",
   "execution_count": null,
   "id": "c5e1a1eb-7c46-4770-bac5-936eb817ce4c",
   "metadata": {},
   "outputs": [],
   "source": []
  }
 ],
 "metadata": {
  "kernelspec": {
   "display_name": "Python 3",
   "language": "python",
   "name": "python3"
  },
  "language_info": {
   "codemirror_mode": {
    "name": "ipython",
    "version": 3
   },
   "file_extension": ".py",
   "mimetype": "text/x-python",
   "name": "python",
   "nbconvert_exporter": "python",
   "pygments_lexer": "ipython3",
   "version": "3.8.8"
  }
 },
 "nbformat": 4,
 "nbformat_minor": 5
}
