{
 "cells": [
  {
   "cell_type": "code",
   "execution_count": 1,
   "id": "a97e76dd-9f3d-47a9-b04e-7558ff6316f9",
   "metadata": {},
   "outputs": [],
   "source": [
    "import numpy as np\n",
    "\n",
    "def bitize(num):\n",
    "    \"\"\"\"Transform an integer into an array of 0s and 1s.\n",
    "    1  -> 1000000\n",
    "    2  -> 0100000\n",
    "    .\n",
    "    .\n",
    "    .\n",
    "    32 -> 0000010\n",
    "    64 -> 0000001\n",
    "    \"\"\"\n",
    "    return np.unpackbits(np.array([num], dtype='uint8'), bitorder=\"little\", count=7)\n",
    "\n",
    "letters = [\"a\", \"b\", \"c\", \"d\", \"e\", \"f\", \"g\"]"
   ]
  },
  {
   "cell_type": "markdown",
   "id": "62647819-a642-42fa-bf3a-114d86037272",
   "metadata": {},
   "source": [
    "It is somewhat confusing (to me at least) to have the same letters meaning different things.  \n",
    "I'll therefore introduce new intermediary notation for the segments:\n",
    "```\n",
    "    . tt .\n",
    "    t    t\n",
    "    l    r\n",
    "    . mm .\n",
    "    b    b\n",
    "    l    r\n",
    "    . bb .\n",
    "```\n",
    "But that won't get us very far. I need some other format, one with which I can do some algebra - \n",
    "So let's encode each display to a list of 0s and 1s of length 7 (one element for each segment on the display).  \n",
    "Every digit can then be \"drawn\" by turning the display's segments on and off (0 or 1).  \n",
    "\n",
    "We can now use the intermediary notation to encode the segments, and thus also encode the digits. \n"
   ]
  },
  {
   "cell_type": "code",
   "execution_count": 2,
   "id": "bf63ac2e-fff5-43a8-9683-98a246bad12d",
   "metadata": {},
   "outputs": [
    {
     "data": {
      "text/plain": [
       "{'tt': array([1, 0, 0, 0, 0, 0, 0], dtype=uint8),\n",
       " 'tl': array([0, 1, 0, 0, 0, 0, 0], dtype=uint8),\n",
       " 'tr': array([0, 0, 1, 0, 0, 0, 0], dtype=uint8),\n",
       " 'mm': array([0, 0, 0, 1, 0, 0, 0], dtype=uint8),\n",
       " 'bl': array([0, 0, 0, 0, 1, 0, 0], dtype=uint8),\n",
       " 'br': array([0, 0, 0, 0, 0, 1, 0], dtype=uint8),\n",
       " 'bb': array([0, 0, 0, 0, 0, 0, 1], dtype=uint8)}"
      ]
     },
     "execution_count": 2,
     "metadata": {},
     "output_type": "execute_result"
    }
   ],
   "source": [
    "segment_positions = [\"tt\", \"tl\", \"tr\", \"mm\", \"bl\", \"br\", \"bb\"] # top, top-left, etc.\n",
    "seg_bins = dict()\n",
    "for i, pos in enumerate(segment_positions):\n",
    "    seg_bins[pos] = bitize(2**i)\n",
    "# This is the basic mapping for each segment\n",
    "seg_bins  "
   ]
  },
  {
   "cell_type": "code",
   "execution_count": 3,
   "id": "a912bf39-d0d1-4efa-afbf-656b0cd6ea57",
   "metadata": {},
   "outputs": [],
   "source": [
    "digit_drawings = {0 : \"tt tl tr bl br bb\",\n",
    "                  1 : \"tr br\",\n",
    "                  2 : \"tt tr mm bl bb\",\n",
    "                  3 : \"tt tr mm br bb\",\n",
    "                  4 : \"tl tr mm br\",\n",
    "                  5 : \"tt tl mm br bb\",\n",
    "                  6 : \"tt tl mm bl br bb\",\n",
    "                  7 : \"tt tr br\",\n",
    "                  8 : \"tt tl tr mm bl br bb\",\n",
    "                  9 : \"tt tl tr mm br bb\"}"
   ]
  },
  {
   "cell_type": "code",
   "execution_count": 4,
   "id": "6803f589-71ab-45b3-b581-4ac6b0885936",
   "metadata": {},
   "outputs": [],
   "source": [
    "seg_arr = np.array(list(seg_bins.values()))"
   ]
  },
  {
   "cell_type": "code",
   "execution_count": 5,
   "id": "4dd835a2-c917-4cc7-946c-152d26388c23",
   "metadata": {},
   "outputs": [
    {
     "data": {
      "text/plain": [
       "{0: array([1, 1, 1, 0, 1, 1, 1], dtype=uint64),\n",
       " 1: array([0, 0, 1, 0, 0, 1, 0], dtype=uint64),\n",
       " 2: array([1, 0, 1, 1, 1, 0, 1], dtype=uint64),\n",
       " 3: array([1, 0, 1, 1, 0, 1, 1], dtype=uint64),\n",
       " 4: array([0, 1, 1, 1, 0, 1, 0], dtype=uint64),\n",
       " 5: array([1, 1, 0, 1, 0, 1, 1], dtype=uint64),\n",
       " 6: array([1, 1, 0, 1, 1, 1, 1], dtype=uint64),\n",
       " 7: array([1, 0, 1, 0, 0, 1, 0], dtype=uint64),\n",
       " 8: array([1, 1, 1, 1, 1, 1, 1], dtype=uint64),\n",
       " 9: array([1, 1, 1, 1, 0, 1, 1], dtype=uint64)}"
      ]
     },
     "execution_count": 5,
     "metadata": {},
     "output_type": "execute_result"
    }
   ],
   "source": [
    "digit_encodings = dict()\n",
    "for digit, drawing in digit_drawings.items():\n",
    "    segpos = []\n",
    "    for seg in drawing.split():\n",
    "        segpos.append(segment_positions.index(seg))\n",
    "    digit_encodings[digit] = np.sum(seg_arr[segpos], axis=0)\n",
    "digit_encodings"
   ]
  },
  {
   "cell_type": "code",
   "execution_count": 6,
   "id": "516c32ff-1c8e-46fd-84d4-2c862949d67d",
   "metadata": {},
   "outputs": [],
   "source": [
    "dig_arr = np.array(list(digit_encodings.values()))"
   ]
  },
  {
   "cell_type": "code",
   "execution_count": 7,
   "id": "1e6e076a-ae75-4cdb-a0df-51e39b958e19",
   "metadata": {},
   "outputs": [],
   "source": [
    "# How many segments need to be \"turned on\" in order to display a digit:\n",
    "base_lengths = []\n",
    "for k, val in digit_encodings.items():\n",
    "    base_lengths.append(np.sum(val))"
   ]
  },
  {
   "cell_type": "code",
   "execution_count": 8,
   "id": "9fdb07da-433c-4b2a-a453-a0fd954aa0a6",
   "metadata": {},
   "outputs": [
    {
     "data": {
      "text/plain": [
       "539"
      ]
     },
     "execution_count": 8,
     "metadata": {},
     "output_type": "execute_result"
    }
   ],
   "source": [
    "# Let's construct a list containing the lengths of each 4-\"word\" we need to decipher\n",
    "lengths = []\n",
    "filename = \"data/day08a.txt\"\n",
    "with open(filename, 'r') as ff:\n",
    "    four_digits = ff.readline().split('|')[-1].split() # keep only the part after \"|\"\n",
    "    while four_digits:\n",
    "        lengths.append([len(digit) for digit in four_digits])\n",
    "        four_digits = ff.readline().split('|')[-1].split()\n",
    "    \n",
    "# What are the unique lengths:\n",
    "unique_lengths = []\n",
    "for length in base_lengths:\n",
    "    if base_lengths.count(length) == 1:\n",
    "        unique_lengths.append(length)\n",
    "\n",
    "# Count the number of occurencies of the \"words\" of unique length\n",
    "count = 0\n",
    "for four_lengths in lengths:\n",
    "    for ll in four_lengths:\n",
    "        if ll in unique_lengths:\n",
    "            count += 1\n",
    "count"
   ]
  },
  {
   "cell_type": "markdown",
   "id": "d6d58275-d3fe-426a-bd8b-806678bdf984",
   "metadata": {},
   "source": [
    "## part 2"
   ]
  },
  {
   "cell_type": "code",
   "execution_count": 9,
   "id": "a3a7b07c-314a-49a9-bc65-2c5b4739fcc7",
   "metadata": {},
   "outputs": [],
   "source": [
    "import pandas as pd"
   ]
  },
  {
   "cell_type": "code",
   "execution_count": 10,
   "id": "37b6d314-c0a2-4112-afe4-d53e0db2c4f0",
   "metadata": {},
   "outputs": [
    {
     "data": {
      "text/html": [
       "<div>\n",
       "<style scoped>\n",
       "    .dataframe tbody tr th:only-of-type {\n",
       "        vertical-align: middle;\n",
       "    }\n",
       "\n",
       "    .dataframe tbody tr th {\n",
       "        vertical-align: top;\n",
       "    }\n",
       "\n",
       "    .dataframe thead th {\n",
       "        text-align: right;\n",
       "    }\n",
       "</style>\n",
       "<table border=\"1\" class=\"dataframe\">\n",
       "  <thead>\n",
       "    <tr style=\"text-align: right;\">\n",
       "      <th></th>\n",
       "      <th>0</th>\n",
       "      <th>1</th>\n",
       "      <th>2</th>\n",
       "      <th>3</th>\n",
       "      <th>4</th>\n",
       "      <th>5</th>\n",
       "      <th>6</th>\n",
       "      <th>7</th>\n",
       "      <th>8</th>\n",
       "      <th>9</th>\n",
       "      <th>slen</th>\n",
       "      <th>letters</th>\n",
       "    </tr>\n",
       "  </thead>\n",
       "  <tbody>\n",
       "    <tr>\n",
       "      <th>tt</th>\n",
       "      <td>1</td>\n",
       "      <td>0</td>\n",
       "      <td>1</td>\n",
       "      <td>1</td>\n",
       "      <td>0</td>\n",
       "      <td>1</td>\n",
       "      <td>1</td>\n",
       "      <td>1</td>\n",
       "      <td>1</td>\n",
       "      <td>1</td>\n",
       "      <td>8</td>\n",
       "      <td>a</td>\n",
       "    </tr>\n",
       "    <tr>\n",
       "      <th>tl</th>\n",
       "      <td>1</td>\n",
       "      <td>0</td>\n",
       "      <td>0</td>\n",
       "      <td>0</td>\n",
       "      <td>1</td>\n",
       "      <td>1</td>\n",
       "      <td>1</td>\n",
       "      <td>0</td>\n",
       "      <td>1</td>\n",
       "      <td>1</td>\n",
       "      <td>6</td>\n",
       "      <td>b</td>\n",
       "    </tr>\n",
       "    <tr>\n",
       "      <th>tr</th>\n",
       "      <td>1</td>\n",
       "      <td>1</td>\n",
       "      <td>1</td>\n",
       "      <td>1</td>\n",
       "      <td>1</td>\n",
       "      <td>0</td>\n",
       "      <td>0</td>\n",
       "      <td>1</td>\n",
       "      <td>1</td>\n",
       "      <td>1</td>\n",
       "      <td>8</td>\n",
       "      <td>c</td>\n",
       "    </tr>\n",
       "    <tr>\n",
       "      <th>mm</th>\n",
       "      <td>0</td>\n",
       "      <td>0</td>\n",
       "      <td>1</td>\n",
       "      <td>1</td>\n",
       "      <td>1</td>\n",
       "      <td>1</td>\n",
       "      <td>1</td>\n",
       "      <td>0</td>\n",
       "      <td>1</td>\n",
       "      <td>1</td>\n",
       "      <td>7</td>\n",
       "      <td>d</td>\n",
       "    </tr>\n",
       "    <tr>\n",
       "      <th>bl</th>\n",
       "      <td>1</td>\n",
       "      <td>0</td>\n",
       "      <td>1</td>\n",
       "      <td>0</td>\n",
       "      <td>0</td>\n",
       "      <td>0</td>\n",
       "      <td>1</td>\n",
       "      <td>0</td>\n",
       "      <td>1</td>\n",
       "      <td>0</td>\n",
       "      <td>4</td>\n",
       "      <td>e</td>\n",
       "    </tr>\n",
       "    <tr>\n",
       "      <th>br</th>\n",
       "      <td>1</td>\n",
       "      <td>1</td>\n",
       "      <td>0</td>\n",
       "      <td>1</td>\n",
       "      <td>1</td>\n",
       "      <td>1</td>\n",
       "      <td>1</td>\n",
       "      <td>1</td>\n",
       "      <td>1</td>\n",
       "      <td>1</td>\n",
       "      <td>9</td>\n",
       "      <td>f</td>\n",
       "    </tr>\n",
       "    <tr>\n",
       "      <th>bb</th>\n",
       "      <td>1</td>\n",
       "      <td>0</td>\n",
       "      <td>1</td>\n",
       "      <td>1</td>\n",
       "      <td>0</td>\n",
       "      <td>1</td>\n",
       "      <td>1</td>\n",
       "      <td>0</td>\n",
       "      <td>1</td>\n",
       "      <td>1</td>\n",
       "      <td>7</td>\n",
       "      <td>g</td>\n",
       "    </tr>\n",
       "    <tr>\n",
       "      <th>nlen</th>\n",
       "      <td>6</td>\n",
       "      <td>2</td>\n",
       "      <td>5</td>\n",
       "      <td>5</td>\n",
       "      <td>4</td>\n",
       "      <td>5</td>\n",
       "      <td>6</td>\n",
       "      <td>3</td>\n",
       "      <td>7</td>\n",
       "      <td>6</td>\n",
       "      <td>0</td>\n",
       "      <td>NaN</td>\n",
       "    </tr>\n",
       "  </tbody>\n",
       "</table>\n",
       "</div>"
      ],
      "text/plain": [
       "      0  1  2  3  4  5  6  7  8  9  slen letters\n",
       "tt    1  0  1  1  0  1  1  1  1  1     8       a\n",
       "tl    1  0  0  0  1  1  1  0  1  1     6       b\n",
       "tr    1  1  1  1  1  0  0  1  1  1     8       c\n",
       "mm    0  0  1  1  1  1  1  0  1  1     7       d\n",
       "bl    1  0  1  0  0  0  1  0  1  0     4       e\n",
       "br    1  1  0  1  1  1  1  1  1  1     9       f\n",
       "bb    1  0  1  1  0  1  1  0  1  1     7       g\n",
       "nlen  6  2  5  5  4  5  6  3  7  6     0     NaN"
      ]
     },
     "execution_count": 10,
     "metadata": {},
     "output_type": "execute_result"
    }
   ],
   "source": [
    "df = pd.DataFrame(data=dig_arr.T, index=segment_positions, columns=range(10))\n",
    "df[\"slen\"] = df.sum(axis=1)\n",
    "df[\"letters\"] = letters\n",
    "df.loc[\"nlen\"] = df.iloc[:, :-1].sum(axis=0)\n",
    "df.iloc[:, :-1] = df.iloc[:, :-1].astype(int)\n",
    "df.iloc[-1, -2] = 0\n",
    "df"
   ]
  },
  {
   "cell_type": "markdown",
   "id": "266d740d-3348-40c7-8921-c442c4defa15",
   "metadata": {},
   "source": [
    "### Here is the decoding algorithm on how to obtain the \"words\" correponding to each digit:\n",
    "Using only the first part of the input (part of the line before the \"|\"-sign). \n",
    "\n",
    "We first count how many times each letter is repeated. Then we get:  \n",
    "\n",
    "-  0 : The only 6-letter word containing ONLY one of two letters repeated 7 times.\n",
    "-  1 : The only 2-letter word\n",
    "-  2 : The only 5-letter word containing the only letter repeated 4 times\n",
    "-  3 : The only 5-letter word left after we identify the 2 and the 5\n",
    "-  4 : The only 4-letter word\n",
    "-  5 : The only 5-letter word containing the only letter repeated 6 times.\n",
    "-  6 : The only 6-letter word containing ONLY one of two letters repeated 8 times.\n",
    "-  7 : The only 4-letter word\n",
    "-  8 : The only 7-letter word\n",
    "-  9 : The only 6-letter left after we identify the 0 and the 6"
   ]
  },
  {
   "cell_type": "code",
   "execution_count": 11,
   "id": "90b9fbc1-0de9-43be-8034-a68c93549c47",
   "metadata": {},
   "outputs": [],
   "source": [
    "def read_number(cijelikod):\n",
    "    \n",
    "    testkod = cijelikod.split(\"|\")[0].split()\n",
    "    def decipher(testkod=testkod):\n",
    "        \n",
    "\n",
    "        def word_contains(times_letter_repeated, given_word, testkod=testkod):\n",
    "            \"\"\"Check if the word contains a letter repeated `times_letter_repeated` in the testkod.\n",
    "            Retruns:\n",
    "             0, 1, or 2\n",
    "            \"\"\"\n",
    "            letters = list('abcdefg')\n",
    "            letter_counters = []\n",
    "            ldic = dict()\n",
    "            for letter in letters:\n",
    "                counter = 0\n",
    "                for word in testkod:\n",
    "                    if letter in word:\n",
    "                        counter +=1\n",
    "                letter_counters.append(counter)\n",
    "            lcount = np.array(letter_counters)\n",
    "\n",
    "            indices = np.where(lcount == times_letter_repeated)\n",
    "            larr = np.array(letters)\n",
    "            duzina = np.intersect1d(larr[indices], np.array(list(given_word)))\n",
    "            return len(duzina)\n",
    "\n",
    "        codes = []\n",
    "        digits = []\n",
    "        for w in testkod:\n",
    "            word = set(w)\n",
    "            if len(word) == 2:\n",
    "                codes.append(word)\n",
    "                digits.append(1)\n",
    "            elif len(word) == 3:\n",
    "                codes.append(word)\n",
    "                digits.append(7)\n",
    "            elif len(word) == 4:\n",
    "                codes.append(word)\n",
    "                digits.append(4)\n",
    "            elif len(word) == 7:\n",
    "                codes.append(word)\n",
    "                digits.append(8)\n",
    "            elif len(word) == 5:\n",
    "                # print(word_contains(4, word))\n",
    "                if word_contains(4, word) == 1:\n",
    "                    codes.append(word)\n",
    "                    digits.append(2)\n",
    "                elif word_contains(6, word) == 1:\n",
    "                    codes.append(word)\n",
    "                    digits.append(5)\n",
    "                else:\n",
    "                    codes.append(word)\n",
    "                    digits.append(3)\n",
    "            elif len(word) == 6:\n",
    "                if word_contains(8, word) == 1:\n",
    "                    codes.append(word)\n",
    "                    digits.append(6)\n",
    "                elif word_contains(7, word) == 1:\n",
    "                    codes.append(word)\n",
    "                    digits.append(0)\n",
    "                else:\n",
    "                    codes.append(word)\n",
    "                    digits.append(9)\n",
    "        return codes, digits\n",
    "       \n",
    "    procitaj = cijelikod.split(\"|\")[-1].split()\n",
    "    broj = []\n",
    "    codes, digits = decipher(testkod)\n",
    "    for rijec in procitaj:\n",
    "        rijec = set(rijec)\n",
    "        broj.append(digits[codes.index(rijec)])\n",
    "    \n",
    "    konacni = 0\n",
    "    for i, bb in enumerate(broj[::-1]):\n",
    "        konacni += bb*10**i\n",
    "        \n",
    "    return konacni"
   ]
  },
  {
   "cell_type": "code",
   "execution_count": 12,
   "id": "a8f1f331-0509-476a-ad05-600af0c9ec4c",
   "metadata": {},
   "outputs": [
    {
     "data": {
      "text/plain": [
       "5353"
      ]
     },
     "execution_count": 12,
     "metadata": {},
     "output_type": "execute_result"
    }
   ],
   "source": [
    "cijelikod = \"acedgfb cdfbe gcdfa fbcad dab cefabd cdfgeb eafb cagedb ab | cdfeb fcadb cdfeb cdbaf\" \n",
    "read_number(cijelikod)"
   ]
  },
  {
   "cell_type": "code",
   "execution_count": 13,
   "id": "ae5e2990-3cf4-40dc-baa1-645fa0e7af39",
   "metadata": {},
   "outputs": [],
   "source": [
    "numbers = []\n",
    "filename = \"data/day08a.txt\"\n",
    "with open(filename, 'r') as ff:\n",
    "    line = ff.readline()\n",
    "    while line:\n",
    "        numbers.append(read_number(line))\n",
    "        line = ff.readline()"
   ]
  },
  {
   "cell_type": "code",
   "execution_count": 14,
   "id": "59514150-a2a9-415f-bbd0-db8754ab0334",
   "metadata": {},
   "outputs": [
    {
     "data": {
      "text/plain": [
       "1084606"
      ]
     },
     "execution_count": 14,
     "metadata": {},
     "output_type": "execute_result"
    }
   ],
   "source": [
    "np.sum(numbers)"
   ]
  }
 ],
 "metadata": {
  "kernelspec": {
   "display_name": "Python 3",
   "language": "python",
   "name": "python3"
  },
  "language_info": {
   "codemirror_mode": {
    "name": "ipython",
    "version": 3
   },
   "file_extension": ".py",
   "mimetype": "text/x-python",
   "name": "python",
   "nbconvert_exporter": "python",
   "pygments_lexer": "ipython3",
   "version": "3.8.8"
  }
 },
 "nbformat": 4,
 "nbformat_minor": 5
}
