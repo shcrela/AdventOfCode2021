{
 "cells": [
  {
   "cell_type": "markdown",
   "id": "602092a4-ad04-4b20-a5ee-05c54fd55529",
   "metadata": {},
   "source": [
    "# --- Day 3: Binary Diagnostic ---\n",
    "The submarine has been making some odd creaking noises, so you ask it to produce a diagnostic report just in case.\n",
    "\n",
    "The diagnostic report (your puzzle input) consists of a list of binary numbers which, when decoded properly, can tell you many useful things about the conditions of the submarine. The first parameter to check is the power consumption.\n",
    "\n",
    "You need to use the binary numbers in the diagnostic report to generate two new binary numbers (called the **gamma rate** and the **epsilon rate**). The power consumption can then be found by multiplying the gamma rate by the epsilon rate.\n",
    "\n",
    "Each bit in the gamma rate can be determined by finding **the most common bit in the corresponding position** of all numbers in the diagnostic report. For example, given the following diagnostic report:\n",
    "```\n",
    "00100\n",
    "11110\n",
    "10110\n",
    "10111\n",
    "10101\n",
    "01111\n",
    "00111\n",
    "11100\n",
    "10000\n",
    "11001\n",
    "00010\n",
    "01010\n",
    "```\n",
    "Considering only the first bit of each number, there are five 0 bits and seven 1 bits. Since the most common bit is 1, the first bit of the gamma rate is 1.\n",
    "\n",
    "The most common second bit of the numbers in the diagnostic report is 0, so the second bit of the gamma rate is 0.\n",
    "\n",
    "The most common value of the third, fourth, and fifth bits are 1, 1, and 0, respectively, and so the final three bits of the gamma rate are 110.\n",
    "\n",
    "So, the gamma rate is the binary number 10110, or 22 in decimal.\n",
    "\n",
    "The epsilon rate is calculated in a similar way; rather than use the most common bit, the least common bit from each position is used. So, the epsilon rate is 01001, or 9 in decimal. Multiplying the gamma rate (22) by the epsilon rate (9) produces the power consumption, 198.\n",
    "\n",
    "Use the binary numbers in your diagnostic report to calculate the gamma rate and epsilon rate, then multiply them together. **What is the power consumption of the submarine?** (Be sure to represent your answer in decimal, not binary.)"
   ]
  },
  {
   "cell_type": "code",
   "execution_count": 1,
   "id": "35c04c16-bd1f-406e-adc7-b15c5a1fedca",
   "metadata": {},
   "outputs": [],
   "source": [
    "import numpy as np\n",
    "\n",
    "def bins_arr_2dec(bins_arr):\n",
    "    \"\"\"Convert boolean 1D array to the decimal value of its elements combined.\n",
    "    Input:\n",
    "        bins_arr: 1D array of booleans\n",
    "    Returns:int\n",
    "    \"\"\"\n",
    "    zeroone = bins_arr.astype(int)\n",
    "    return int(''.join(zeroone.astype(str)), base=2)\n",
    "\n",
    "def find_most_common(b_arr, operator=\">=\"):\n",
    "    \"\"\"Show the most common value per column.\n",
    "    If the sum is >= half, the most common is True.\n",
    "    Otherwise, the most common is False.\n",
    "    \n",
    "    Input: 2D boolean ndarray of shape (N, M)\n",
    "    Output: 1D boolean ndarray of len M\n",
    "    \"\"\"\n",
    "    return eval(f\"np.sum(b_arr, axis=0) {operator} len(b_arr)/2\").astype(int)\n",
    "\n",
    "def find_least_common(b_arr, operator=\"<\"):\n",
    "    \"\"\"The \"opposite\" of the `find_most_common` function\n",
    "    Look if there is a minority of True values.\n",
    "    \"\"\"\n",
    "    return find_most_common(b_arr, operator=operator)"
   ]
  },
  {
   "cell_type": "code",
   "execution_count": 2,
   "id": "2930e4ed-54b3-4c98-9e2f-91e835904235",
   "metadata": {},
   "outputs": [],
   "source": [
    "# Load the data\n",
    "with open(\"data/day03a.txt\") as ff:\n",
    "    data = ff.read().split('\\n')\n",
    "\n",
    "# Transform it into a 2D ndarray of 0s & 1s\n",
    "# This part is probably unnecessary, but I'm used to working with numpy\n",
    "input_bits = []\n",
    "for sequence in data:\n",
    "    input_bits.append([int(ii) for ii in sequence])\n",
    "\n",
    "input_arr = np.array(input_bits)"
   ]
  },
  {
   "cell_type": "code",
   "execution_count": 3,
   "id": "cbb5feb3-b77f-4197-80d7-deaeece43182",
   "metadata": {},
   "outputs": [],
   "source": [
    "gamma = find_most_common(input_arr)\n",
    "gamma_rate = bins_arr_2dec(gamma)"
   ]
  },
  {
   "cell_type": "code",
   "execution_count": 4,
   "id": "a999f64c-3549-46fc-81b2-68c3ec3139bd",
   "metadata": {},
   "outputs": [],
   "source": [
    "epsilon = find_least_common(input_arr)\n",
    "epsilon_rate = bins_arr_2dec(epsilon)"
   ]
  },
  {
   "cell_type": "code",
   "execution_count": 5,
   "id": "0ac339cf-6139-45f3-8c62-5f86579c7a15",
   "metadata": {},
   "outputs": [
    {
     "data": {
      "text/plain": [
       "True"
      ]
     },
     "execution_count": 5,
     "metadata": {},
     "output_type": "execute_result"
    }
   ],
   "source": [
    "# Check:\n",
    "np.all(gamma + epsilon)"
   ]
  },
  {
   "cell_type": "code",
   "execution_count": 6,
   "id": "e8a05649-5ce3-41b4-b9be-c65694209e01",
   "metadata": {},
   "outputs": [
    {
     "data": {
      "text/plain": [
       "2595824"
      ]
     },
     "execution_count": 6,
     "metadata": {},
     "output_type": "execute_result"
    }
   ],
   "source": [
    "# The result:\n",
    "epsilon_rate * gamma_rate"
   ]
  },
  {
   "cell_type": "markdown",
   "id": "17840c5a-355e-4e8b-a435-c8bf9166f1b7",
   "metadata": {},
   "source": [
    "## --- Part Two ---\n",
    "\n",
    "Next, you should verify the **life support rating**, which can be determined by multiplying the **oxygen generator rating** by the **CO2 scrubber rating**.\n",
    "\n",
    "Both the oxygen generator rating and the CO2 scrubber rating are values that can be found in your diagnostic report - finding them is the tricky part. Both values are located using a similar process that involves filtering out values until only one remains. Before searching for either rating value, start with the full list of binary numbers from your diagnostic report and **consider just the first bit** of those numbers. Then:\n",
    "\n",
    "  - Keep only numbers selected by the **bit criteria** for the type of rating value for which you are searching. Discard numbers which do not match the bit criteria.\n",
    "  - If you only have one number left, stop; this is the rating value for which you are searching.\n",
    "  - Otherwise, repeat the process, considering the next bit to the right.\n",
    "\n",
    "The **bit criteria** depends on which type of rating value you want to find:\n",
    "\n",
    "  - To find **oxygen generator rating**, determine the **most common** value (0 or 1) in the current bit position, and keep only numbers with that bit in that position. If 0 and 1 are equally common, keep values with a 1 in the position being considered.\n",
    "  - To find **CO2 scrubber rating**, determine the **least common** value (0 or 1) in the current bit position, and keep only numbers with that bit in that position. If 0 and 1 are equally common, keep values with a 0 in the position being considered.\n",
    "\n",
    "For example, to determine the **oxygen generator rating** value using the same example diagnostic report from above:\n",
    "\n",
    "  - Start with all 12 numbers and consider only the first bit of each number. There are more 1 bits (7) than 0 bits (5), so keep only the 7 numbers with a 1 in the first position: 11110, 10110, 10111, 10101, 11100, 10000, and 11001.\n",
    "  - Then, consider the second bit of the 7 remaining numbers: there are more 0 bits (4) than 1 bits (3), so keep only the 4 numbers with a 0 in the second position: 10110, 10111, 10101, and 10000.\n",
    "  - In the third position, three of the four numbers have a 1, so keep those three: 10110, 10111, and 10101.\n",
    "  - In the fourth position, two of the three numbers have a 1, so keep those two: 10110 and 10111.\n",
    " - In the fifth position, there are an equal number of 0 bits and 1 bits (one each). So, to find the oxygen generator rating, keep the number with a 1 in that position: 10111.\n",
    "  - As there is only one number left, stop; the oxygen generator rating is 10111, or 23 in decimal.\n",
    "\n",
    "Then, to determine the **CO2 scrubber rating** value from the same example above:\n",
    "\n",
    "  - Start again with all 12 numbers and consider only the first bit of each number. There are fewer 0 bits (5) than 1 bits (7), so keep only the 5 numbers with a 0 in the first position: 00100, 01111, 00111, 00010, and 01010.\n",
    "  - Then, consider the second bit of the 5 remaining numbers: there are fewer 1 bits (2) than 0 bits (3), so keep only the 2 numbers with a 1 in the second position: 01111 and 01010.\n",
    "  - In the third position, there are an equal number of 0 bits and 1 bits (one each). So, to find the CO2 scrubber rating, keep the number with a 0 in that position: 01010.\n",
    "  - As there is only one number left, stop; the CO2 scrubber rating is 01010, or 10 in decimal.\n",
    "\n",
    "Finally, to find the life support rating, multiply the oxygen generator rating (23) by the CO2 scrubber rating (10) to get 230.\n",
    "\n",
    "Use the binary numbers in your diagnostic report to calculate the oxygen generator rating and CO2 scrubber rating, then multiply them together. **What is the life support rating of the submarine?** (Be sure to represent your answer in decimal, not binary.)"
   ]
  },
  {
   "cell_type": "code",
   "execution_count": 7,
   "id": "27215c1e-9520-4067-b167-fb66b14cc2f5",
   "metadata": {},
   "outputs": [],
   "source": [
    "def find_ind(input_arr, position, func=find_most_common):\n",
    "    \"\"\"Find the most common value for the given column of an 2D input array.\n",
    "    Input:\n",
    "        input_arr: 2D boolean ndarray\n",
    "        position: int\n",
    "            defines the column\n",
    "        func: function to use for identifying target value\n",
    "    Output: ndarray of int\n",
    "        indices where the input_arr has the target values at the given column\"\"\"\n",
    "    target_value = func(input_arr)[position]\n",
    "    return(np.where(input_arr[:, position] == target_value)[0])\n",
    "\n",
    "def find_rating(input_arr=input_arr, func=find_most_common):\n",
    "    test_arr = np.copy(input_arr)\n",
    "    for i in range(len(input_arr[0])): # for each column\n",
    "        ind = find_ind(test_arr, i, func=func)\n",
    "        test_arr = np.copy(test_arr[ind])\n",
    "        if len(test_arr) < 2:\n",
    "            break\n",
    "    return bins_arr_2dec(test_arr[0])"
   ]
  },
  {
   "cell_type": "code",
   "execution_count": 8,
   "id": "64582b9c-8c2d-4d4f-aa06-06b193cc17cb",
   "metadata": {},
   "outputs": [
    {
     "data": {
      "text/plain": [
       "2135254"
      ]
     },
     "execution_count": 8,
     "metadata": {},
     "output_type": "execute_result"
    }
   ],
   "source": [
    "oxygen_generator_rating = find_rating()\n",
    "CO2_generator_rating = find_rating(func=find_least_common)\n",
    "# The result:\n",
    "oxygen_generator_rating * CO2_generator_rating"
   ]
  }
 ],
 "metadata": {
  "kernelspec": {
   "display_name": "Python 3",
   "language": "python",
   "name": "python3"
  },
  "language_info": {
   "codemirror_mode": {
    "name": "ipython",
    "version": 3
   },
   "file_extension": ".py",
   "mimetype": "text/x-python",
   "name": "python",
   "nbconvert_exporter": "python",
   "pygments_lexer": "ipython3",
   "version": "3.8.8"
  }
 },
 "nbformat": 4,
 "nbformat_minor": 5
}
