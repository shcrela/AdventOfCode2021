{
 "cells": [
  {
   "cell_type": "code",
   "execution_count": 1,
   "id": "a9fd1e0f-5232-44bd-b6c3-9adf4eda84fd",
   "metadata": {},
   "outputs": [],
   "source": [
    "import numpy as np\n",
    "from copy import deepcopy\n",
    "\n",
    "\n",
    "def prevedi(hex_str):\n",
    "    return format(int(hex_str, base=16), '04b')\n",
    "\n",
    "def translate(code):\n",
    "    return \"\".join([prevedi(x) for x in code])\n",
    "\n",
    "def literal_value(bdata, tot_bin=\"\", pointer=0):\n",
    "    flag = bdata[pointer]\n",
    "    code = tot_bin + bdata[pointer+1:pointer+5]\n",
    "    pointer += 5\n",
    "    if flag == \"0\":\n",
    "        return int(code, base=2), pointer\n",
    "    else:\n",
    "        # tot_bin += code\n",
    "        return literal_value(bdata, tot_bin=code, pointer=pointer)\n",
    "\n",
    "def my_less(my_list):\n",
    "    return np.less(*my_list)\n",
    "def my_greater(my_list):\n",
    "    return np.greater(*my_list)\n",
    "def my_equal(my_list):\n",
    "    return np.equal(*my_list)\n",
    "\n",
    "\n",
    "OPERATORS = {0: np.sum,\n",
    "             1: np.prod,\n",
    "             2: np.min,\n",
    "             3: np.max,\n",
    "             4: literal_value,\n",
    "             5: my_greater,\n",
    "             6: my_less, \n",
    "             7: my_equal}"
   ]
  },
  {
   "cell_type": "code",
   "execution_count": 2,
   "id": "262cab3d-9b4a-43cc-b189-afff69272254",
   "metadata": {},
   "outputs": [],
   "source": [
    "filename = \"./data/day16a.txt\"\n",
    "with open(filename, \"r\") as ff:\n",
    "    hstring = ff.read()\n",
    "bdata = translate(hstring)\n",
    "\n",
    "\n",
    "packet = dict()\n",
    "packet[\"packet_version\"] = []\n",
    "packet[\"packet_type_id\"] = []\n",
    "packet[\"value\"] = []\n",
    "\n",
    "\n",
    "def parser(bdata, pointer=0):\n",
    "\n",
    "    global OPERATORS, packet\n",
    "\n",
    "    if pointer > len(bdata) - 11:\n",
    "        print(\"=========== kraj ===========\")\n",
    "\n",
    "    else:\n",
    "        packet_version = int(bdata[pointer:pointer+3], base=2)\n",
    "        packet_type_id = int(bdata[pointer+3:pointer+6], base=2)\n",
    "        pointer += 6\n",
    "        packet[\"packet_version\"].append(packet_version)\n",
    "        packet[\"packet_type_id\"].append(packet_type_id)\n",
    "        if packet_type_id == 4: # Literal\n",
    "            nombre, pointer = literal_value(bdata, pointer=pointer)\n",
    "            packet[\"value\"].append(nombre)\n",
    "            return nombre, pointer\n",
    "            # parser(bdata, pointer=pointer)\n",
    "        else:  # Operator\n",
    "            subpackets_values = []\n",
    "            length_type_id = bdata[pointer]\n",
    "            pointer += 1\n",
    "            if length_type_id == \"0\":\n",
    "                total_length = int(bdata[pointer:pointer+15], base=2)\n",
    "                pointer += 15\n",
    "                granica = deepcopy(pointer + total_length)\n",
    "                while pointer < granica - 5:\n",
    "                    nombre, pointer = parser(bdata, pointer=pointer)\n",
    "                    subpackets_values.append(nombre)\n",
    "\n",
    "            else:\n",
    "                nb_subpackets = int(bdata[pointer:pointer+11], base=2)\n",
    "                pointer += 11\n",
    "                for prd in range(nb_subpackets):\n",
    "                    nombre, pointer = parser(bdata, pointer=pointer)\n",
    "                    subpackets_values.append(nombre)\n",
    "            packet[\"value\"].append(OPERATORS[packet_type_id](subpackets_values))\n",
    "            return OPERATORS[packet_type_id](subpackets_values), pointer"
   ]
  },
  {
   "cell_type": "code",
   "execution_count": 3,
   "id": "413be2f8-dd0d-4dda-a725-45f59b0427e2",
   "metadata": {},
   "outputs": [
    {
     "data": {
      "text/plain": [
       "144595909277"
      ]
     },
     "execution_count": 3,
     "metadata": {},
     "output_type": "execute_result"
    }
   ],
   "source": [
    "# Part 2\n",
    "parser(bdata)[0]"
   ]
  },
  {
   "cell_type": "code",
   "execution_count": 4,
   "id": "9eea1f4a-c10f-4309-9b8a-3a3de8b6b231",
   "metadata": {},
   "outputs": [
    {
     "data": {
      "text/plain": [
       "993"
      ]
     },
     "execution_count": 4,
     "metadata": {},
     "output_type": "execute_result"
    }
   ],
   "source": [
    "# Part 1\n",
    "np.sum(packet[\"packet_version\"])"
   ]
  }
 ],
 "metadata": {
  "kernelspec": {
   "display_name": "visatscale",
   "language": "python",
   "name": "visatscale"
  },
  "language_info": {
   "codemirror_mode": {
    "name": "ipython",
    "version": 3
   },
   "file_extension": ".py",
   "mimetype": "text/x-python",
   "name": "python",
   "nbconvert_exporter": "python",
   "pygments_lexer": "ipython3",
   "version": "3.9.7"
  }
 },
 "nbformat": 4,
 "nbformat_minor": 5
}
