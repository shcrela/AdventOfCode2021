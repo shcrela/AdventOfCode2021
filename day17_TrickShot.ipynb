{
 "cells": [
  {
   "cell_type": "code",
   "execution_count": 1,
   "id": "863f801a-3628-48fb-a506-ea07bbb74e4a",
   "metadata": {},
   "outputs": [],
   "source": [
    "%matplotlib inline\n",
    "from itertools import product\n",
    "import numpy as np\n",
    "from scipy import optimize\n",
    "import matplotlib.pyplot as plt\n",
    "import seaborn as sns; sns.set()"
   ]
  },
  {
   "cell_type": "markdown",
   "id": "bd1a9b0b-11d9-449f-9f27-f0db5055a6c0",
   "metadata": {},
   "source": [
    "target area: x=241..275, y=-75..-49"
   ]
  },
  {
   "cell_type": "code",
   "execution_count": 2,
   "id": "461da82e-0fb5-4929-a318-7a9cf68fe90f",
   "metadata": {},
   "outputs": [],
   "source": [
    "Xin = 241\n",
    "Xout = 275\n",
    "Yin = -49\n",
    "Yout = -75\n",
    "\n",
    "# Xin = 20\n",
    "# Xout = 30\n",
    "# Yin = -5\n",
    "# Yout = -10\n",
    "\n",
    "def deepshot(vx, vy, n=0, ymax=0):\n",
    "    global Xin, Xout, Yin, Yout\n",
    "    \n",
    "    if n > vx:\n",
    "        x = vx * (vx + 1) / 2\n",
    "    else:\n",
    "        x = n * (vx - (n+1)/2)\n",
    "    y = n * (vy - (n+1)/2)\n",
    "    if y > ymax:\n",
    "        ymax=y\n",
    "    in_zone = (y <= Yin and x >= Xin) and (y >= Yout and x <= Xout)\n",
    "    missed = y < Yout or x > Xout\n",
    "    if in_zone:\n",
    "        return True, ymax\n",
    "    if missed:\n",
    "        return False, None\n",
    "    n += 1\n",
    "    return deepshot(vx, vy, n=n, ymax=ymax)"
   ]
  },
  {
   "cell_type": "code",
   "execution_count": 3,
   "id": "1de496dc-321f-42d0-a5b1-a5abefd22d40",
   "metadata": {},
   "outputs": [],
   "source": [
    "broj = 0\n",
    "ymaxes = []\n",
    "speeds = set()\n",
    "for vx, vy in product(np.arange(500), np.arange(-200, 175)):\n",
    "    test, ymax = deepshot(vx, vy)\n",
    "    if test:\n",
    "        broj += test\n",
    "        ymaxes.append(ymax)\n",
    "        speeds.add((vx, vy))\n",
    "        # print(vx, vy)"
   ]
  },
  {
   "cell_type": "code",
   "execution_count": 4,
   "id": "a40c0624-3c10-4584-888b-22d842879d08",
   "metadata": {},
   "outputs": [
    {
     "data": {
      "text/plain": [
       "2775.0"
      ]
     },
     "execution_count": 4,
     "metadata": {},
     "output_type": "execute_result"
    }
   ],
   "source": [
    "# Part 1\n",
    "max(ymaxes)"
   ]
  },
  {
   "cell_type": "code",
   "execution_count": 5,
   "id": "87224255-b821-4976-9677-6d91652dd39e",
   "metadata": {},
   "outputs": [
    {
     "data": {
      "text/plain": [
       "1566"
      ]
     },
     "execution_count": 5,
     "metadata": {},
     "output_type": "execute_result"
    }
   ],
   "source": [
    "# Part 2:\n",
    "broj - 1"
   ]
  },
  {
   "cell_type": "code",
   "execution_count": 6,
   "id": "07abba1d-1036-4b81-8a2b-ace61e3f078a",
   "metadata": {},
   "outputs": [
    {
     "data": {
      "text/plain": [
       "[<matplotlib.lines.Line2D at 0x7fa290821370>]"
      ]
     },
     "execution_count": 6,
     "metadata": {},
     "output_type": "execute_result"
    },
    {
     "data": {
      "image/png": "[encoded data removed]",
      "text/plain": [
       "<Figure size 432x288 with 1 Axes>"
      ]
     },
     "metadata": {},
     "output_type": "display_data"
    }
   ],
   "source": [
    "plt.plot(ymaxes)"
   ]
  },
  {
   "cell_type": "code",
   "execution_count": 7,
   "id": "4fd992ae-7454-4a8f-8e8e-9835666406c1",
   "metadata": {},
   "outputs": [],
   "source": [
    "x_brzine = []\n",
    "y_brzine = []\n",
    "\n",
    "for a, b in speeds:\n",
    "    x_brzine.append(a)\n",
    "    y_brzine.append(b)"
   ]
  },
  {
   "cell_type": "code",
   "execution_count": 8,
   "id": "ed67f03f-7b87-45aa-8976-de11ffbf662c",
   "metadata": {},
   "outputs": [
    {
     "data": {
      "image/png": "[encoded data removed]",
      "text/plain": [
       "<Figure size 432x288 with 1 Axes>"
      ]
     },
     "metadata": {},
     "output_type": "display_data"
    }
   ],
   "source": [
    "plt.plot(x_brzine, y_brzine, 'o');"
   ]
  },
  {
   "cell_type": "code",
   "execution_count": null,
   "id": "741a483c-3cbb-4c30-83df-1be6b2745174",
   "metadata": {},
   "outputs": [],
   "source": []
  }
 ],
 "metadata": {
  "kernelspec": {
   "display_name": "visatscale",
   "language": "python",
   "name": "visatscale"
  },
  "language_info": {
   "codemirror_mode": {
    "name": "ipython",
    "version": 3
   },
   "file_extension": ".py",
   "mimetype": "text/x-python",
   "name": "python",
   "nbconvert_exporter": "python",
   "pygments_lexer": "ipython3",
   "version": "3.9.7"
  }
 },
 "nbformat": 4,
 "nbformat_minor": 5
}
